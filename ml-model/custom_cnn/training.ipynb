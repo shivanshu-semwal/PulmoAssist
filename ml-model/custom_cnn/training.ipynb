{
 "cells": [
  {
   "cell_type": "code",
   "execution_count": 1,
   "metadata": {
    "tags": []
   },
   "outputs": [],
   "source": [
    "# import the required libraries\n",
    "\n",
    "import numpy as np\n",
    "import seaborn as sns\n",
    "import matplotlib.pyplot as plt\n",
    "import os\n",
    "import tensorflow as tf\n",
    "from tensorflow.keras import layers, optimizers\n",
    "from tensorflow.keras.layers import *\n",
    "from tensorflow.keras.preprocessing.image import ImageDataGenerator\n",
    "from tensorflow.keras.models import Model, load_model\n",
    "from tensorflow.keras.callbacks import EarlyStopping, ModelCheckpoint"
   ]
  },
  {
   "cell_type": "markdown",
   "metadata": {},
   "source": [
    "## Loading Images from the Disk"
   ]
  },
  {
   "cell_type": "code",
   "execution_count": 2,
   "metadata": {},
   "outputs": [],
   "source": [
    "IMAGE_SIZE = 256\n",
    "BATCH_SIZE = 32\n",
    "CHANNELS = 3"
   ]
  },
  {
   "cell_type": "code",
   "execution_count": 3,
   "metadata": {},
   "outputs": [
    {
     "name": "stdout",
     "output_type": "stream",
     "text": [
      "Found 2814 files belonging to 4 classes.\n"
     ]
    },
    {
     "name": "stderr",
     "output_type": "stream",
     "text": [
      "2023-05-18 15:35:33.773070: I tensorflow/stream_executor/cuda/cuda_gpu_executor.cc:936] successful NUMA node read from SysFS had negative value (-1), but there must be at least one NUMA node, so returning NUMA node zero\n",
      "2023-05-18 15:35:33.885234: I tensorflow/stream_executor/cuda/cuda_gpu_executor.cc:936] successful NUMA node read from SysFS had negative value (-1), but there must be at least one NUMA node, so returning NUMA node zero\n",
      "2023-05-18 15:35:33.885542: I tensorflow/stream_executor/cuda/cuda_gpu_executor.cc:936] successful NUMA node read from SysFS had negative value (-1), but there must be at least one NUMA node, so returning NUMA node zero\n",
      "2023-05-18 15:35:33.887599: I tensorflow/core/platform/cpu_feature_guard.cc:151] This TensorFlow binary is optimized with oneAPI Deep Neural Network Library (oneDNN) to use the following CPU instructions in performance-critical operations:  AVX2 FMA\n",
      "To enable them in other operations, rebuild TensorFlow with the appropriate compiler flags.\n",
      "2023-05-18 15:35:33.888461: I tensorflow/stream_executor/cuda/cuda_gpu_executor.cc:936] successful NUMA node read from SysFS had negative value (-1), but there must be at least one NUMA node, so returning NUMA node zero\n",
      "2023-05-18 15:35:33.888747: I tensorflow/stream_executor/cuda/cuda_gpu_executor.cc:936] successful NUMA node read from SysFS had negative value (-1), but there must be at least one NUMA node, so returning NUMA node zero\n",
      "2023-05-18 15:35:33.889016: I tensorflow/stream_executor/cuda/cuda_gpu_executor.cc:936] successful NUMA node read from SysFS had negative value (-1), but there must be at least one NUMA node, so returning NUMA node zero\n",
      "2023-05-18 15:35:35.019740: I tensorflow/stream_executor/cuda/cuda_gpu_executor.cc:936] successful NUMA node read from SysFS had negative value (-1), but there must be at least one NUMA node, so returning NUMA node zero\n",
      "2023-05-18 15:35:35.020280: I tensorflow/stream_executor/cuda/cuda_gpu_executor.cc:936] successful NUMA node read from SysFS had negative value (-1), but there must be at least one NUMA node, so returning NUMA node zero\n",
      "2023-05-18 15:35:35.020741: I tensorflow/stream_executor/cuda/cuda_gpu_executor.cc:936] successful NUMA node read from SysFS had negative value (-1), but there must be at least one NUMA node, so returning NUMA node zero\n",
      "2023-05-18 15:35:35.021619: I tensorflow/core/common_runtime/gpu/gpu_device.cc:1525] Created device /job:localhost/replica:0/task:0/device:GPU:0 with 2252 MB memory:  -> device: 0, name: NVIDIA GeForce GTX 1650, pci bus id: 0000:01:00.0, compute capability: 7.5\n"
     ]
    }
   ],
   "source": [
    "dataset = tf.keras.preprocessing.image_dataset_from_directory(\n",
    "    \"../datasets-4\",\n",
    "    seed=123, # this will ensure we get the same images each time\n",
    "    shuffle=True, # images inside the batches will be shuffled\n",
    "    image_size=(IMAGE_SIZE,IMAGE_SIZE), # every image will be of 128x128 dimension\n",
    "    batch_size=BATCH_SIZE # There will be 64 images in each batch\n",
    ")"
   ]
  },
  {
   "cell_type": "markdown",
   "metadata": {},
   "source": [
    "## Splitting the Dataset\n",
    "\n",
    "We will take -\n",
    "- 80% data for training our model\n",
    "- 10% data for validation purpose\n",
    "- 10% data for test purpose"
   ]
  },
  {
   "cell_type": "code",
   "execution_count": 4,
   "metadata": {
    "scrolled": true
   },
   "outputs": [
    {
     "name": "stdout",
     "output_type": "stream",
     "text": [
      "\n",
      "    Total Batches: 88,\n",
      "    Training Batches: 70,\n",
      "    Testing Batches: 8,\n",
      "    Validation Batches: 10\n",
      "\n"
     ]
    }
   ],
   "source": [
    "total_batches = len(dataset)\n",
    "train_size = int(0.80 * total_batches)\n",
    "test_size = int(0.10 * total_batches)\n",
    "val_size = total_batches - train_size - test_size\n",
    "\n",
    "print(f\"\"\"\n",
    "    Total Batches: {total_batches},\n",
    "    Training Batches: {train_size},\n",
    "    Testing Batches: {test_size},\n",
    "    Validation Batches: {val_size}\n",
    "\"\"\")\n",
    "\n",
    "train_ds = dataset.take(train_size) # used for training data\n",
    "test_ds = dataset.skip(train_size).take(test_size) # final evaluation will be done on this model\n",
    "val_ds = dataset.skip(train_size + test_size).take(val_size) # used to tune the model"
   ]
  },
  {
   "cell_type": "markdown",
   "metadata": {},
   "source": [
    "## Cache, Shuffle, and Prefetch the Dataset"
   ]
  },
  {
   "cell_type": "code",
   "execution_count": 5,
   "metadata": {},
   "outputs": [],
   "source": [
    "train_ds = train_ds.cache().shuffle(2000).prefetch(buffer_size=tf.data.AUTOTUNE)\n",
    "val_ds = val_ds.cache().shuffle(2000).prefetch(buffer_size=tf.data.AUTOTUNE)\n",
    "test_ds = test_ds.cache().shuffle(2000).prefetch(buffer_size=tf.data.AUTOTUNE)"
   ]
  },
  {
   "cell_type": "markdown",
   "metadata": {},
   "source": [
    "## Image Augmentation"
   ]
  },
  {
   "cell_type": "code",
   "execution_count": 6,
   "metadata": {},
   "outputs": [],
   "source": [
    "data_augmentation = tf.keras.Sequential([\n",
    "    layers.experimental.preprocessing.RandomFlip(\"horizontal_and_vertical\"),\n",
    "    layers.experimental.preprocessing.RandomRotation(0.2),\n",
    "])\n",
    "\n",
    "# Applying Augmentation on Training Data\n",
    "train_ds = train_ds.map(\n",
    "    lambda x, y: (data_augmentation(x, training=True), y)\n",
    ").prefetch(buffer_size=tf.data.AUTOTUNE)"
   ]
  },
  {
   "cell_type": "markdown",
   "metadata": {},
   "source": [
    "## Designing and Training the Model"
   ]
  },
  {
   "cell_type": "code",
   "execution_count": 7,
   "metadata": {},
   "outputs": [],
   "source": [
    "resize_and_rescale = tf.keras.Sequential([\n",
    "  layers.experimental.preprocessing.Resizing(IMAGE_SIZE, IMAGE_SIZE),\n",
    "  layers.experimental.preprocessing.Rescaling(1./255),\n",
    "])"
   ]
  },
  {
   "cell_type": "code",
   "execution_count": 8,
   "metadata": {},
   "outputs": [],
   "source": [
    "input_shape = (BATCH_SIZE, IMAGE_SIZE, IMAGE_SIZE, CHANNELS)\n",
    "n_classes = len(dataset.class_names)\n",
    "\n",
    "model = tf.keras.Sequential([\n",
    "    resize_and_rescale,\n",
    "    Conv2D(filters=32, kernel_size=(2,2), activation='relu', input_shape=input_shape),\n",
    "    MaxPooling2D((4,4)),\n",
    "    \n",
    "    Conv2D(filters=64, kernel_size=(3,3), activation='relu', padding='same'),\n",
    "    MaxPooling2D((3,3)),\n",
    "    Dropout(0.3), # for regularization\n",
    "    \n",
    "    Conv2D(filters=64, kernel_size=(4,4), activation='relu', padding='same'),\n",
    "    Conv2D(filters=128, kernel_size=(5,5), activation='relu', padding='same'),\n",
    "    MaxPooling2D((2,2)),\n",
    "    Dropout(0.4),\n",
    "    \n",
    "    Conv2D(filters=128, kernel_size=(5,5), activation='relu', padding='same'),\n",
    "    MaxPooling2D((2,2)),\n",
    "    Dropout(0.5),\n",
    "    \n",
    "    Flatten(), # flattening for feeding into ANN\n",
    "    Dense(512, activation='relu'),\n",
    "    Dropout(0.5),\n",
    "    Dense(256, activation='relu'),\n",
    "    Dropout(0.3),\n",
    "    Dense(128, activation='relu'),\n",
    "    Dense(n_classes, activation='softmax')\n",
    "])"
   ]
  },
  {
   "cell_type": "code",
   "execution_count": 9,
   "metadata": {},
   "outputs": [
    {
     "name": "stdout",
     "output_type": "stream",
     "text": [
      "Model: \"sequential_2\"\n",
      "_________________________________________________________________\n",
      " Layer (type)                Output Shape              Param #   \n",
      "=================================================================\n",
      " sequential_1 (Sequential)   (32, 256, 256, 3)         0         \n",
      "                                                                 \n",
      " conv2d (Conv2D)             (32, 255, 255, 32)        416       \n",
      "                                                                 \n",
      " max_pooling2d (MaxPooling2D  (32, 63, 63, 32)         0         \n",
      " )                                                               \n",
      "                                                                 \n",
      " conv2d_1 (Conv2D)           (32, 63, 63, 64)          18496     \n",
      "                                                                 \n",
      " max_pooling2d_1 (MaxPooling  (32, 21, 21, 64)         0         \n",
      " 2D)                                                             \n",
      "                                                                 \n",
      " dropout (Dropout)           (32, 21, 21, 64)          0         \n",
      "                                                                 \n",
      " conv2d_2 (Conv2D)           (32, 21, 21, 64)          65600     \n",
      "                                                                 \n",
      " conv2d_3 (Conv2D)           (32, 21, 21, 128)         204928    \n",
      "                                                                 \n",
      " max_pooling2d_2 (MaxPooling  (32, 10, 10, 128)        0         \n",
      " 2D)                                                             \n",
      "                                                                 \n",
      " dropout_1 (Dropout)         (32, 10, 10, 128)         0         \n",
      "                                                                 \n",
      " conv2d_4 (Conv2D)           (32, 10, 10, 128)         409728    \n",
      "                                                                 \n",
      " max_pooling2d_3 (MaxPooling  (32, 5, 5, 128)          0         \n",
      " 2D)                                                             \n",
      "                                                                 \n",
      " dropout_2 (Dropout)         (32, 5, 5, 128)           0         \n",
      "                                                                 \n",
      " flatten (Flatten)           (32, 3200)                0         \n",
      "                                                                 \n",
      " dense (Dense)               (32, 512)                 1638912   \n",
      "                                                                 \n",
      " dropout_3 (Dropout)         (32, 512)                 0         \n",
      "                                                                 \n",
      " dense_1 (Dense)             (32, 256)                 131328    \n",
      "                                                                 \n",
      " dropout_4 (Dropout)         (32, 256)                 0         \n",
      "                                                                 \n",
      " dense_2 (Dense)             (32, 128)                 32896     \n",
      "                                                                 \n",
      " dense_3 (Dense)             (32, 4)                   516       \n",
      "                                                                 \n",
      "=================================================================\n",
      "Total params: 2,502,820\n",
      "Trainable params: 2,502,820\n",
      "Non-trainable params: 0\n",
      "_________________________________________________________________\n"
     ]
    }
   ],
   "source": [
    "model.build(input_shape=input_shape)\n",
    "model.summary()"
   ]
  },
  {
   "cell_type": "code",
   "execution_count": 10,
   "metadata": {
    "tags": []
   },
   "outputs": [],
   "source": [
    "# compile the model\n",
    "model.compile(\n",
    "    loss = 'sparse_categorical_crossentropy', \n",
    "    optimizer='Adam',\n",
    "    metrics= [\"accuracy\"]\n",
    ")"
   ]
  },
  {
   "cell_type": "code",
   "execution_count": 11,
   "metadata": {
    "tags": []
   },
   "outputs": [],
   "source": [
    "# use early stopping to exit training if validation loss is not decreasing even after certain epochs (patience)\n",
    "earlystopping = EarlyStopping(\n",
    "    monitor='val_loss', \n",
    "    mode='min', \n",
    "    verbose=1, \n",
    "    patience=20\n",
    ")\n",
    "\n",
    "# save the best model with least validation loss\n",
    "checkpointer = ModelCheckpoint(\n",
    "    filepath=\"finalproject_weights.h5\", \n",
    "    verbose=1, \n",
    "    save_best_only=True\n",
    ")"
   ]
  },
  {
   "cell_type": "code",
   "execution_count": 12,
   "metadata": {
    "tags": []
   },
   "outputs": [
    {
     "name": "stdout",
     "output_type": "stream",
     "text": [
      "Epoch 1/300\n"
     ]
    },
    {
     "name": "stderr",
     "output_type": "stream",
     "text": [
      "2023-05-18 15:35:47.847299: I tensorflow/core/kernels/data/shuffle_dataset_op.cc:390] Filling up shuffle buffer (this may take a while): 13 of 2000\n",
      "2023-05-18 15:35:57.753934: I tensorflow/core/kernels/data/shuffle_dataset_op.cc:390] Filling up shuffle buffer (this may take a while): 35 of 2000\n",
      "2023-05-18 15:36:07.565119: I tensorflow/core/kernels/data/shuffle_dataset_op.cc:390] Filling up shuffle buffer (this may take a while): 57 of 2000\n",
      "2023-05-18 15:36:14.336037: I tensorflow/core/kernels/data/shuffle_dataset_op.cc:415] Shuffle buffer filled.\n",
      "2023-05-18 15:36:16.760523: I tensorflow/stream_executor/cuda/cuda_dnn.cc:368] Loaded cuDNN version 8204\n",
      "2023-05-18 15:36:18.191245: I tensorflow/core/platform/default/subprocess.cc:304] Start cannot spawn child process: No such file or directory\n"
     ]
    },
    {
     "name": "stdout",
     "output_type": "stream",
     "text": [
      "70/70 [==============================] - ETA: 0s - loss: 1.3507 - accuracy: 0.3857"
     ]
    },
    {
     "name": "stderr",
     "output_type": "stream",
     "text": [
      "2023-05-18 15:37:23.443882: I tensorflow/core/kernels/data/shuffle_dataset_op.cc:390] Filling up shuffle buffer (this may take a while): 1 of 2000\n",
      "2023-05-18 15:37:24.051560: I tensorflow/core/kernels/data/shuffle_dataset_op.cc:390] Filling up shuffle buffer (this may take a while): 2 of 2000\n",
      "2023-05-18 15:37:24.058433: I tensorflow/core/kernels/data/shuffle_dataset_op.cc:390] Filling up shuffle buffer (this may take a while): 3 of 2000\n",
      "2023-05-18 15:37:24.066046: I tensorflow/core/kernels/data/shuffle_dataset_op.cc:390] Filling up shuffle buffer (this may take a while): 4 of 2000\n",
      "2023-05-18 15:37:24.109205: I tensorflow/core/kernels/data/shuffle_dataset_op.cc:415] Shuffle buffer filled.\n"
     ]
    },
    {
     "name": "stdout",
     "output_type": "stream",
     "text": [
      "\n",
      "Epoch 1: val_loss improved from inf to 1.33181, saving model to finalproject_weights.h5\n",
      "70/70 [==============================] - 109s 928ms/step - loss: 1.3507 - accuracy: 0.3857 - val_loss: 1.3318 - val_accuracy: 0.3679\n",
      "Epoch 2/300\n",
      "70/70 [==============================] - ETA: 0s - loss: 1.2781 - accuracy: 0.3866\n",
      "Epoch 2: val_loss improved from 1.33181 to 1.32966, saving model to finalproject_weights.h5\n",
      "70/70 [==============================] - 22s 314ms/step - loss: 1.2781 - accuracy: 0.3866 - val_loss: 1.3297 - val_accuracy: 0.3805\n",
      "Epoch 3/300\n",
      "70/70 [==============================] - ETA: 0s - loss: 1.1927 - accuracy: 0.4384\n",
      "Epoch 3: val_loss improved from 1.32966 to 1.21626, saving model to finalproject_weights.h5\n",
      "70/70 [==============================] - 22s 311ms/step - loss: 1.1927 - accuracy: 0.4384 - val_loss: 1.2163 - val_accuracy: 0.4780\n",
      "Epoch 4/300\n",
      "70/70 [==============================] - ETA: 0s - loss: 1.0272 - accuracy: 0.5603\n",
      "Epoch 4: val_loss improved from 1.21626 to 1.15990, saving model to finalproject_weights.h5\n",
      "70/70 [==============================] - 22s 310ms/step - loss: 1.0272 - accuracy: 0.5603 - val_loss: 1.1599 - val_accuracy: 0.4748\n",
      "Epoch 5/300\n",
      "70/70 [==============================] - ETA: 0s - loss: 0.8850 - accuracy: 0.6513\n",
      "Epoch 5: val_loss improved from 1.15990 to 0.96316, saving model to finalproject_weights.h5\n",
      "70/70 [==============================] - 22s 312ms/step - loss: 0.8850 - accuracy: 0.6513 - val_loss: 0.9632 - val_accuracy: 0.6038\n",
      "Epoch 6/300\n",
      "70/70 [==============================] - ETA: 0s - loss: 0.8197 - accuracy: 0.6799\n",
      "Epoch 6: val_loss improved from 0.96316 to 0.79246, saving model to finalproject_weights.h5\n",
      "70/70 [==============================] - 22s 310ms/step - loss: 0.8197 - accuracy: 0.6799 - val_loss: 0.7925 - val_accuracy: 0.7358\n",
      "Epoch 7/300\n",
      "70/70 [==============================] - ETA: 0s - loss: 0.7497 - accuracy: 0.7165\n",
      "Epoch 7: val_loss did not improve from 0.79246\n",
      "70/70 [==============================] - 22s 308ms/step - loss: 0.7497 - accuracy: 0.7165 - val_loss: 0.8021 - val_accuracy: 0.7296\n",
      "Epoch 8/300\n",
      "70/70 [==============================] - ETA: 0s - loss: 0.7123 - accuracy: 0.7121\n",
      "Epoch 8: val_loss did not improve from 0.79246\n",
      "70/70 [==============================] - 22s 309ms/step - loss: 0.7123 - accuracy: 0.7121 - val_loss: 0.9438 - val_accuracy: 0.6635\n",
      "Epoch 9/300\n",
      "70/70 [==============================] - ETA: 0s - loss: 0.6775 - accuracy: 0.7451\n",
      "Epoch 9: val_loss did not improve from 0.79246\n",
      "70/70 [==============================] - 22s 307ms/step - loss: 0.6775 - accuracy: 0.7451 - val_loss: 0.9835 - val_accuracy: 0.6792\n",
      "Epoch 10/300\n",
      "70/70 [==============================] - ETA: 0s - loss: 0.6347 - accuracy: 0.7473\n",
      "Epoch 10: val_loss did not improve from 0.79246\n",
      "70/70 [==============================] - 21s 306ms/step - loss: 0.6347 - accuracy: 0.7473 - val_loss: 0.8850 - val_accuracy: 0.6918\n",
      "Epoch 11/300\n",
      "70/70 [==============================] - ETA: 0s - loss: 0.6081 - accuracy: 0.7567\n",
      "Epoch 11: val_loss improved from 0.79246 to 0.70546, saving model to finalproject_weights.h5\n",
      "70/70 [==============================] - 22s 310ms/step - loss: 0.6081 - accuracy: 0.7567 - val_loss: 0.7055 - val_accuracy: 0.7579\n",
      "Epoch 12/300\n",
      "70/70 [==============================] - ETA: 0s - loss: 0.6132 - accuracy: 0.7589\n",
      "Epoch 12: val_loss improved from 0.70546 to 0.65583, saving model to finalproject_weights.h5\n",
      "70/70 [==============================] - 22s 309ms/step - loss: 0.6132 - accuracy: 0.7589 - val_loss: 0.6558 - val_accuracy: 0.7767\n",
      "Epoch 13/300\n",
      "70/70 [==============================] - ETA: 0s - loss: 0.5915 - accuracy: 0.7688\n",
      "Epoch 13: val_loss did not improve from 0.65583\n",
      "70/70 [==============================] - 22s 307ms/step - loss: 0.5915 - accuracy: 0.7688 - val_loss: 0.7112 - val_accuracy: 0.7421\n",
      "Epoch 14/300\n",
      "70/70 [==============================] - ETA: 0s - loss: 0.5873 - accuracy: 0.7701\n",
      "Epoch 14: val_loss did not improve from 0.65583\n",
      "70/70 [==============================] - 22s 309ms/step - loss: 0.5873 - accuracy: 0.7701 - val_loss: 0.7492 - val_accuracy: 0.7264\n",
      "Epoch 15/300\n",
      "70/70 [==============================] - ETA: 0s - loss: 0.5499 - accuracy: 0.7804\n",
      "Epoch 15: val_loss improved from 0.65583 to 0.62064, saving model to finalproject_weights.h5\n",
      "70/70 [==============================] - 22s 309ms/step - loss: 0.5499 - accuracy: 0.7804 - val_loss: 0.6206 - val_accuracy: 0.7673\n",
      "Epoch 16/300\n",
      "70/70 [==============================] - ETA: 0s - loss: 0.5488 - accuracy: 0.7951\n",
      "Epoch 16: val_loss did not improve from 0.62064\n",
      "70/70 [==============================] - 22s 308ms/step - loss: 0.5488 - accuracy: 0.7951 - val_loss: 0.6515 - val_accuracy: 0.7579\n",
      "Epoch 17/300\n",
      "70/70 [==============================] - ETA: 0s - loss: 0.5455 - accuracy: 0.7866\n",
      "Epoch 17: val_loss improved from 0.62064 to 0.60704, saving model to finalproject_weights.h5\n",
      "70/70 [==============================] - 22s 309ms/step - loss: 0.5455 - accuracy: 0.7866 - val_loss: 0.6070 - val_accuracy: 0.8050\n",
      "Epoch 18/300\n",
      "70/70 [==============================] - ETA: 0s - loss: 0.5141 - accuracy: 0.8094\n",
      "Epoch 18: val_loss did not improve from 0.60704\n",
      "70/70 [==============================] - 21s 306ms/step - loss: 0.5141 - accuracy: 0.8094 - val_loss: 0.7002 - val_accuracy: 0.7484\n",
      "Epoch 19/300\n",
      "70/70 [==============================] - ETA: 0s - loss: 0.5021 - accuracy: 0.8107\n",
      "Epoch 19: val_loss improved from 0.60704 to 0.53361, saving model to finalproject_weights.h5\n",
      "70/70 [==============================] - 22s 310ms/step - loss: 0.5021 - accuracy: 0.8107 - val_loss: 0.5336 - val_accuracy: 0.8239\n",
      "Epoch 20/300\n",
      "70/70 [==============================] - ETA: 0s - loss: 0.4606 - accuracy: 0.8250\n",
      "Epoch 20: val_loss did not improve from 0.53361\n",
      "70/70 [==============================] - 22s 307ms/step - loss: 0.4606 - accuracy: 0.8250 - val_loss: 0.5986 - val_accuracy: 0.7862\n",
      "Epoch 21/300\n",
      "70/70 [==============================] - ETA: 0s - loss: 0.5033 - accuracy: 0.8223\n",
      "Epoch 21: val_loss improved from 0.53361 to 0.52515, saving model to finalproject_weights.h5\n",
      "70/70 [==============================] - 22s 308ms/step - loss: 0.5033 - accuracy: 0.8223 - val_loss: 0.5252 - val_accuracy: 0.8208\n",
      "Epoch 22/300\n",
      "70/70 [==============================] - ETA: 0s - loss: 0.5130 - accuracy: 0.8134\n",
      "Epoch 22: val_loss did not improve from 0.52515\n",
      "70/70 [==============================] - 22s 309ms/step - loss: 0.5130 - accuracy: 0.8134 - val_loss: 0.5690 - val_accuracy: 0.8019\n",
      "Epoch 23/300\n",
      "70/70 [==============================] - ETA: 0s - loss: 0.4788 - accuracy: 0.8299\n",
      "Epoch 23: val_loss improved from 0.52515 to 0.50347, saving model to finalproject_weights.h5\n",
      "70/70 [==============================] - 22s 309ms/step - loss: 0.4788 - accuracy: 0.8299 - val_loss: 0.5035 - val_accuracy: 0.8082\n",
      "Epoch 24/300\n",
      "70/70 [==============================] - ETA: 0s - loss: 0.4587 - accuracy: 0.8371\n",
      "Epoch 24: val_loss improved from 0.50347 to 0.49960, saving model to finalproject_weights.h5\n",
      "70/70 [==============================] - 22s 309ms/step - loss: 0.4587 - accuracy: 0.8371 - val_loss: 0.4996 - val_accuracy: 0.8428\n",
      "Epoch 25/300\n",
      "70/70 [==============================] - ETA: 0s - loss: 0.4618 - accuracy: 0.8344\n",
      "Epoch 25: val_loss did not improve from 0.49960\n",
      "70/70 [==============================] - 21s 307ms/step - loss: 0.4618 - accuracy: 0.8344 - val_loss: 0.5570 - val_accuracy: 0.8270\n",
      "Epoch 26/300\n",
      "70/70 [==============================] - ETA: 0s - loss: 0.4641 - accuracy: 0.8339\n",
      "Epoch 26: val_loss did not improve from 0.49960\n",
      "70/70 [==============================] - 22s 309ms/step - loss: 0.4641 - accuracy: 0.8339 - val_loss: 0.5094 - val_accuracy: 0.8333\n",
      "Epoch 27/300\n",
      "70/70 [==============================] - ETA: 0s - loss: 0.4518 - accuracy: 0.8335\n",
      "Epoch 27: val_loss did not improve from 0.49960\n",
      "70/70 [==============================] - 22s 307ms/step - loss: 0.4518 - accuracy: 0.8335 - val_loss: 0.5450 - val_accuracy: 0.8082\n",
      "Epoch 28/300\n",
      "70/70 [==============================] - ETA: 0s - loss: 0.4311 - accuracy: 0.8446\n",
      "Epoch 28: val_loss improved from 0.49960 to 0.46525, saving model to finalproject_weights.h5\n",
      "70/70 [==============================] - 22s 309ms/step - loss: 0.4311 - accuracy: 0.8446 - val_loss: 0.4652 - val_accuracy: 0.8522\n",
      "Epoch 29/300\n",
      "70/70 [==============================] - ETA: 0s - loss: 0.4339 - accuracy: 0.8438\n",
      "Epoch 29: val_loss did not improve from 0.46525\n",
      "70/70 [==============================] - 22s 307ms/step - loss: 0.4339 - accuracy: 0.8438 - val_loss: 0.4734 - val_accuracy: 0.8459\n",
      "Epoch 30/300\n",
      "70/70 [==============================] - ETA: 0s - loss: 0.4449 - accuracy: 0.8375\n",
      "Epoch 30: val_loss improved from 0.46525 to 0.42383, saving model to finalproject_weights.h5\n",
      "70/70 [==============================] - 22s 308ms/step - loss: 0.4449 - accuracy: 0.8375 - val_loss: 0.4238 - val_accuracy: 0.8459\n",
      "Epoch 31/300\n",
      "70/70 [==============================] - ETA: 0s - loss: 0.4283 - accuracy: 0.8496\n",
      "Epoch 31: val_loss did not improve from 0.42383\n",
      "70/70 [==============================] - 22s 307ms/step - loss: 0.4283 - accuracy: 0.8496 - val_loss: 0.7083 - val_accuracy: 0.7736\n",
      "Epoch 32/300\n",
      "70/70 [==============================] - ETA: 0s - loss: 0.4527 - accuracy: 0.8362\n",
      "Epoch 32: val_loss did not improve from 0.42383\n",
      "70/70 [==============================] - 22s 308ms/step - loss: 0.4527 - accuracy: 0.8362 - val_loss: 0.4674 - val_accuracy: 0.8270\n",
      "Epoch 33/300\n",
      "70/70 [==============================] - ETA: 0s - loss: 0.4069 - accuracy: 0.8491\n",
      "Epoch 33: val_loss did not improve from 0.42383\n",
      "70/70 [==============================] - 22s 307ms/step - loss: 0.4069 - accuracy: 0.8491 - val_loss: 0.4441 - val_accuracy: 0.8553\n",
      "Epoch 34/300\n",
      "70/70 [==============================] - ETA: 0s - loss: 0.4367 - accuracy: 0.8438\n",
      "Epoch 34: val_loss did not improve from 0.42383\n",
      "70/70 [==============================] - 22s 307ms/step - loss: 0.4367 - accuracy: 0.8438 - val_loss: 0.4732 - val_accuracy: 0.8522\n",
      "Epoch 35/300\n",
      "70/70 [==============================] - ETA: 0s - loss: 0.4203 - accuracy: 0.8464\n",
      "Epoch 35: val_loss did not improve from 0.42383\n",
      "70/70 [==============================] - 21s 306ms/step - loss: 0.4203 - accuracy: 0.8464 - val_loss: 0.4626 - val_accuracy: 0.8365\n",
      "Epoch 36/300\n",
      "70/70 [==============================] - ETA: 0s - loss: 0.4138 - accuracy: 0.8442\n",
      "Epoch 36: val_loss did not improve from 0.42383\n",
      "70/70 [==============================] - 21s 305ms/step - loss: 0.4138 - accuracy: 0.8442 - val_loss: 0.5014 - val_accuracy: 0.8333\n",
      "Epoch 37/300\n",
      "70/70 [==============================] - ETA: 0s - loss: 0.4420 - accuracy: 0.8478\n",
      "Epoch 37: val_loss did not improve from 0.42383\n",
      "70/70 [==============================] - 21s 306ms/step - loss: 0.4420 - accuracy: 0.8478 - val_loss: 0.4448 - val_accuracy: 0.8333\n",
      "Epoch 38/300\n",
      "70/70 [==============================] - ETA: 0s - loss: 0.4165 - accuracy: 0.8531\n",
      "Epoch 38: val_loss did not improve from 0.42383\n",
      "70/70 [==============================] - 21s 306ms/step - loss: 0.4165 - accuracy: 0.8531 - val_loss: 0.6055 - val_accuracy: 0.7453\n",
      "Epoch 39/300\n",
      "70/70 [==============================] - ETA: 0s - loss: 0.4000 - accuracy: 0.8576\n",
      "Epoch 39: val_loss improved from 0.42383 to 0.39310, saving model to finalproject_weights.h5\n",
      "70/70 [==============================] - 22s 307ms/step - loss: 0.4000 - accuracy: 0.8576 - val_loss: 0.3931 - val_accuracy: 0.8805\n",
      "Epoch 40/300\n",
      "70/70 [==============================] - ETA: 0s - loss: 0.4079 - accuracy: 0.8576\n",
      "Epoch 40: val_loss did not improve from 0.39310\n",
      "70/70 [==============================] - 21s 306ms/step - loss: 0.4079 - accuracy: 0.8576 - val_loss: 0.4534 - val_accuracy: 0.8396\n",
      "Epoch 41/300\n",
      "70/70 [==============================] - ETA: 0s - loss: 0.3784 - accuracy: 0.8705\n",
      "Epoch 41: val_loss did not improve from 0.39310\n",
      "70/70 [==============================] - 22s 307ms/step - loss: 0.3784 - accuracy: 0.8705 - val_loss: 0.4628 - val_accuracy: 0.8396\n",
      "Epoch 42/300\n",
      "70/70 [==============================] - ETA: 0s - loss: 0.4012 - accuracy: 0.8536\n",
      "Epoch 42: val_loss did not improve from 0.39310\n",
      "70/70 [==============================] - 21s 305ms/step - loss: 0.4012 - accuracy: 0.8536 - val_loss: 0.4680 - val_accuracy: 0.8365\n",
      "Epoch 43/300\n",
      "70/70 [==============================] - ETA: 0s - loss: 0.3913 - accuracy: 0.8598\n",
      "Epoch 43: val_loss did not improve from 0.39310\n",
      "70/70 [==============================] - 21s 306ms/step - loss: 0.3913 - accuracy: 0.8598 - val_loss: 0.4890 - val_accuracy: 0.8396\n",
      "Epoch 44/300\n",
      "70/70 [==============================] - ETA: 0s - loss: 0.4087 - accuracy: 0.8545\n",
      "Epoch 44: val_loss did not improve from 0.39310\n",
      "70/70 [==============================] - 21s 305ms/step - loss: 0.4087 - accuracy: 0.8545 - val_loss: 0.4693 - val_accuracy: 0.8491\n",
      "Epoch 45/300\n",
      "70/70 [==============================] - ETA: 0s - loss: 0.4022 - accuracy: 0.8473\n",
      "Epoch 45: val_loss did not improve from 0.39310\n",
      "70/70 [==============================] - 22s 307ms/step - loss: 0.4022 - accuracy: 0.8473 - val_loss: 0.5190 - val_accuracy: 0.8270\n",
      "Epoch 46/300\n",
      "70/70 [==============================] - ETA: 0s - loss: 0.3879 - accuracy: 0.8661\n",
      "Epoch 46: val_loss did not improve from 0.39310\n",
      "70/70 [==============================] - 21s 306ms/step - loss: 0.3879 - accuracy: 0.8661 - val_loss: 0.4494 - val_accuracy: 0.8365\n",
      "Epoch 47/300\n",
      "70/70 [==============================] - ETA: 0s - loss: 0.3842 - accuracy: 0.8607\n",
      "Epoch 47: val_loss did not improve from 0.39310\n",
      "70/70 [==============================] - 21s 306ms/step - loss: 0.3842 - accuracy: 0.8607 - val_loss: 0.4595 - val_accuracy: 0.8491\n",
      "Epoch 48/300\n",
      "70/70 [==============================] - ETA: 0s - loss: 0.3755 - accuracy: 0.8719\n",
      "Epoch 48: val_loss did not improve from 0.39310\n",
      "70/70 [==============================] - 22s 308ms/step - loss: 0.3755 - accuracy: 0.8719 - val_loss: 0.4523 - val_accuracy: 0.8679\n",
      "Epoch 49/300\n",
      "70/70 [==============================] - ETA: 0s - loss: 0.3742 - accuracy: 0.8598\n",
      "Epoch 49: val_loss did not improve from 0.39310\n",
      "70/70 [==============================] - 21s 305ms/step - loss: 0.3742 - accuracy: 0.8598 - val_loss: 0.5854 - val_accuracy: 0.8050\n",
      "Epoch 50/300\n",
      "70/70 [==============================] - ETA: 0s - loss: 0.3839 - accuracy: 0.8643\n",
      "Epoch 50: val_loss did not improve from 0.39310\n",
      "70/70 [==============================] - 22s 307ms/step - loss: 0.3839 - accuracy: 0.8643 - val_loss: 0.5181 - val_accuracy: 0.8459\n",
      "Epoch 51/300\n",
      "70/70 [==============================] - ETA: 0s - loss: 0.3841 - accuracy: 0.8696\n",
      "Epoch 51: val_loss did not improve from 0.39310\n",
      "70/70 [==============================] - 21s 306ms/step - loss: 0.3841 - accuracy: 0.8696 - val_loss: 0.4108 - val_accuracy: 0.8553\n",
      "Epoch 52/300\n",
      "70/70 [==============================] - ETA: 0s - loss: 0.3629 - accuracy: 0.8674\n",
      "Epoch 52: val_loss did not improve from 0.39310\n",
      "70/70 [==============================] - 22s 309ms/step - loss: 0.3629 - accuracy: 0.8674 - val_loss: 0.5161 - val_accuracy: 0.8428\n",
      "Epoch 53/300\n",
      "70/70 [==============================] - ETA: 0s - loss: 0.3804 - accuracy: 0.8567\n",
      "Epoch 53: val_loss did not improve from 0.39310\n",
      "70/70 [==============================] - 22s 307ms/step - loss: 0.3804 - accuracy: 0.8567 - val_loss: 0.5236 - val_accuracy: 0.8365\n",
      "Epoch 54/300\n",
      "70/70 [==============================] - ETA: 0s - loss: 0.3550 - accuracy: 0.8737\n",
      "Epoch 54: val_loss did not improve from 0.39310\n",
      "70/70 [==============================] - 22s 310ms/step - loss: 0.3550 - accuracy: 0.8737 - val_loss: 0.4649 - val_accuracy: 0.8428\n",
      "Epoch 55/300\n",
      "70/70 [==============================] - ETA: 0s - loss: 0.3775 - accuracy: 0.8643\n",
      "Epoch 55: val_loss did not improve from 0.39310\n",
      "70/70 [==============================] - 22s 308ms/step - loss: 0.3775 - accuracy: 0.8643 - val_loss: 0.5638 - val_accuracy: 0.8459\n",
      "Epoch 56/300\n",
      "70/70 [==============================] - ETA: 0s - loss: 0.3593 - accuracy: 0.8763\n",
      "Epoch 56: val_loss did not improve from 0.39310\n",
      "70/70 [==============================] - 22s 308ms/step - loss: 0.3593 - accuracy: 0.8763 - val_loss: 0.4556 - val_accuracy: 0.8679\n",
      "Epoch 57/300\n",
      "70/70 [==============================] - ETA: 0s - loss: 0.3643 - accuracy: 0.8710\n",
      "Epoch 57: val_loss did not improve from 0.39310\n",
      "70/70 [==============================] - 22s 306ms/step - loss: 0.3643 - accuracy: 0.8710 - val_loss: 0.4871 - val_accuracy: 0.8648\n",
      "Epoch 58/300\n",
      "70/70 [==============================] - ETA: 0s - loss: 0.3668 - accuracy: 0.8732\n",
      "Epoch 58: val_loss did not improve from 0.39310\n",
      "70/70 [==============================] - 22s 307ms/step - loss: 0.3668 - accuracy: 0.8732 - val_loss: 0.4535 - val_accuracy: 0.8428\n",
      "Epoch 59/300\n",
      "70/70 [==============================] - ETA: 0s - loss: 0.3629 - accuracy: 0.8754\n",
      "Epoch 59: val_loss did not improve from 0.39310\n",
      "70/70 [==============================] - 22s 307ms/step - loss: 0.3629 - accuracy: 0.8754 - val_loss: 0.4624 - val_accuracy: 0.8522\n",
      "Epoch 59: early stopping\n"
     ]
    }
   ],
   "source": [
    "history = model.fit(\n",
    "    train_ds, \n",
    "    epochs = 300,\n",
    "    validation_data=val_ds,\n",
    "    batch_size=BATCH_SIZE,\n",
    "    shuffle=True,\n",
    "    callbacks=[earlystopping, checkpointer]\n",
    ")"
   ]
  },
  {
   "cell_type": "markdown",
   "metadata": {},
   "source": [
    "## Model Evaluation"
   ]
  },
  {
   "cell_type": "code",
   "execution_count": 13,
   "metadata": {},
   "outputs": [
    {
     "data": {
      "image/png": "[encoded data removed]",
      "text/plain": [
       "<Figure size 432x288 with 1 Axes>"
      ]
     },
     "metadata": {
      "needs_background": "light"
     },
     "output_type": "display_data"
    }
   ],
   "source": [
    "# The is how training loss and validation loss varied during training\n",
    "plt.plot(history.history['loss'])\n",
    "plt.plot(history.history['val_loss'])\n",
    "plt.title('model loss')\n",
    "plt.ylabel('loss')\n",
    "plt.xlabel('epoch')\n",
    "plt.legend(['train', 'val'], loc='upper right')\n",
    "plt.show()"
   ]
  },
  {
   "cell_type": "code",
   "execution_count": 14,
   "metadata": {},
   "outputs": [
    {
     "data": {
      "image/png": "[encoded data removed]",
      "text/plain": [
       "<Figure size 432x288 with 1 Axes>"
      ]
     },
     "metadata": {
      "needs_background": "light"
     },
     "output_type": "display_data"
    }
   ],
   "source": [
    "# The is how training accuracy and validation accuracy varied during training\n",
    "plt.plot(history.history['accuracy'])\n",
    "plt.plot(history.history['val_accuracy'])\n",
    "plt.title('model accuracy')\n",
    "plt.ylabel('accuracy')\n",
    "plt.xlabel('epoch')\n",
    "plt.legend(['train', 'val'], loc='upper left')\n",
    "plt.show()"
   ]
  },
  {
   "cell_type": "code",
   "execution_count": 15,
   "metadata": {
    "tags": []
   },
   "outputs": [],
   "source": [
    "# save the model architecture to json file for future use\n",
    "\n",
    "model_json = model.to_json()\n",
    "with open(\"finalproject_model.json\",\"w\") as json_file:\n",
    "  json_file.write(model_json)"
   ]
  },
  {
   "cell_type": "markdown",
   "metadata": {},
   "source": [
    "## Evaluating the Saved Model Performance"
   ]
  },
  {
   "cell_type": "code",
   "execution_count": 16,
   "metadata": {
    "tags": []
   },
   "outputs": [],
   "source": [
    "# Load pretrained model (best saved one)\n",
    "with open('finalproject_model.json', 'r') as json_file:\n",
    "    json_savedModel= json_file.read()\n",
    "# load the model  \n",
    "model = tf.keras.models.model_from_json(json_savedModel)\n",
    "model.load_weights('finalproject_weights.h5')\n",
    "model.compile(loss = 'sparse_categorical_crossentropy', optimizer='Adam', metrics= [\"accuracy\"])"
   ]
  },
  {
   "cell_type": "code",
   "execution_count": 17,
   "metadata": {},
   "outputs": [
    {
     "name": "stderr",
     "output_type": "stream",
     "text": [
      "2023-05-18 15:59:02.582032: I tensorflow/core/kernels/data/shuffle_dataset_op.cc:390] Filling up shuffle buffer (this may take a while): 1 of 2000\n",
      "2023-05-18 15:59:03.004268: I tensorflow/core/kernels/data/shuffle_dataset_op.cc:390] Filling up shuffle buffer (this may take a while): 2 of 2000\n",
      "2023-05-18 15:59:03.531075: I tensorflow/core/kernels/data/shuffle_dataset_op.cc:390] Filling up shuffle buffer (this may take a while): 3 of 2000\n",
      "2023-05-18 15:59:06.099376: I tensorflow/core/kernels/data/shuffle_dataset_op.cc:390] Filling up shuffle buffer (this may take a while): 8 of 2000\n"
     ]
    },
    {
     "name": "stdout",
     "output_type": "stream",
     "text": [
      "5/8 [=================>............] - ETA: 0s - loss: 0.4369 - accuracy: 0.8625"
     ]
    },
    {
     "name": "stderr",
     "output_type": "stream",
     "text": [
      "2023-05-18 15:59:06.328102: I tensorflow/core/kernels/data/shuffle_dataset_op.cc:415] Shuffle buffer filled.\n"
     ]
    },
    {
     "name": "stdout",
     "output_type": "stream",
     "text": [
      "8/8 [==============================] - 41s 34ms/step - loss: 0.4015 - accuracy: 0.8750\n"
     ]
    }
   ],
   "source": [
    "scores = model.evaluate(test_ds)"
   ]
  },
  {
   "cell_type": "code",
   "execution_count": 18,
   "metadata": {},
   "outputs": [],
   "source": [
    "predict = []\n",
    "y_test = np.array([])\n",
    "for images, labels in test_ds:\n",
    "    y_test = np.concatenate((y_test, labels.numpy()), axis=0).astype(int)\n",
    "    predictions = model.predict(images)\n",
    "    predict.extend(np.argmax(predictions, axis=1))\n",
    "predict = np.asarray(predict)"
   ]
  },
  {
   "cell_type": "code",
   "execution_count": 19,
   "metadata": {},
   "outputs": [
    {
     "name": "stdout",
     "output_type": "stream",
     "text": [
      "Accuracy: 0.875\n"
     ]
    }
   ],
   "source": [
    "# Obtain the accuracy of the model\n",
    "from sklearn.metrics import accuracy_score\n",
    "\n",
    "accuracy = accuracy_score(y_test, predict)\n",
    "print(f\"Accuracy: {accuracy}\")"
   ]
  },
  {
   "cell_type": "code",
   "execution_count": 20,
   "metadata": {},
   "outputs": [
    {
     "data": {
      "text/plain": [
       "<AxesSubplot:>"
      ]
     },
     "execution_count": 20,
     "metadata": {},
     "output_type": "execute_result"
    },
    {
     "data": {
      "image/png": "[encoded data removed]",
      "text/plain": [
       "<Figure size 504x504 with 2 Axes>"
      ]
     },
     "metadata": {
      "needs_background": "light"
     },
     "output_type": "display_data"
    }
   ],
   "source": [
    "# plot the confusion matrix\n",
    "from sklearn.metrics import confusion_matrix\n",
    "\n",
    "cm = confusion_matrix(y_test, predict)\n",
    "plt.figure(figsize = (7,7))\n",
    "sns.heatmap(cm, annot=True, cmap='Blues')"
   ]
  },
  {
   "cell_type": "code",
   "execution_count": 21,
   "metadata": {},
   "outputs": [
    {
     "name": "stdout",
     "output_type": "stream",
     "text": [
      "              precision    recall  f1-score   support\n",
      "\n",
      "           0       0.91      0.91      0.91        45\n",
      "           1       0.86      0.90      0.88       102\n",
      "           2       0.79      0.79      0.79        52\n",
      "           3       0.96      0.88      0.92        57\n",
      "\n",
      "    accuracy                           0.88       256\n",
      "   macro avg       0.88      0.87      0.87       256\n",
      "weighted avg       0.88      0.88      0.88       256\n",
      "\n"
     ]
    }
   ],
   "source": [
    "from sklearn.metrics import classification_report\n",
    "\n",
    "report = classification_report(y_test, predict)\n",
    "print(report)"
   ]
  },
  {
   "cell_type": "code",
   "execution_count": null,
   "metadata": {},
   "outputs": [],
   "source": []
  }
 ],
 "metadata": {
  "kernelspec": {
   "display_name": "Python 3 (ipykernel)",
   "language": "python",
   "name": "python3"
  },
  "language_info": {
   "codemirror_mode": {
    "name": "ipython",
    "version": 3
   },
   "file_extension": ".py",
   "mimetype": "text/x-python",
   "name": "python",
   "nbconvert_exporter": "python",
   "pygments_lexer": "ipython3",
   "version": "3.8.10"
  }
 },
 "nbformat": 4,
 "nbformat_minor": 4
}
