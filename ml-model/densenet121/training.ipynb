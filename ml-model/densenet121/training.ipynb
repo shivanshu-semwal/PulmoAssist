{
 "cells": [
  {
   "cell_type": "code",
   "execution_count": 1,
   "metadata": {
    "tags": []
   },
   "outputs": [],
   "source": [
    "# import the required libraries\n",
    "\n",
    "import numpy as np\n",
    "import seaborn as sns\n",
    "import matplotlib.pyplot as plt\n",
    "import os\n",
    "import tensorflow as tf\n",
    "from tensorflow.keras import layers, optimizers\n",
    "from tensorflow.keras.layers import *\n",
    "from tensorflow.keras.preprocessing.image import ImageDataGenerator\n",
    "from tensorflow.keras.models import Model, load_model\n",
    "from tensorflow.keras.callbacks import EarlyStopping, ModelCheckpoint\n",
    "from tensorflow.keras.applications import DenseNet121"
   ]
  },
  {
   "cell_type": "markdown",
   "metadata": {},
   "source": [
    "## Loading Images from the Disk"
   ]
  },
  {
   "cell_type": "code",
   "execution_count": 2,
   "metadata": {},
   "outputs": [],
   "source": [
    "IMAGE_SIZE = 256\n",
    "BATCH_SIZE = 32\n",
    "CHANNELS = 3"
   ]
  },
  {
   "cell_type": "code",
   "execution_count": 3,
   "metadata": {},
   "outputs": [
    {
     "name": "stdout",
     "output_type": "stream",
     "text": [
      "Found 2814 files belonging to 4 classes.\n"
     ]
    },
    {
     "name": "stderr",
     "output_type": "stream",
     "text": [
      "2023-05-18 16:45:03.041269: I tensorflow/stream_executor/cuda/cuda_gpu_executor.cc:936] successful NUMA node read from SysFS had negative value (-1), but there must be at least one NUMA node, so returning NUMA node zero\n",
      "2023-05-18 16:45:03.161851: I tensorflow/stream_executor/cuda/cuda_gpu_executor.cc:936] successful NUMA node read from SysFS had negative value (-1), but there must be at least one NUMA node, so returning NUMA node zero\n",
      "2023-05-18 16:45:03.162148: I tensorflow/stream_executor/cuda/cuda_gpu_executor.cc:936] successful NUMA node read from SysFS had negative value (-1), but there must be at least one NUMA node, so returning NUMA node zero\n",
      "2023-05-18 16:45:03.162989: I tensorflow/core/platform/cpu_feature_guard.cc:151] This TensorFlow binary is optimized with oneAPI Deep Neural Network Library (oneDNN) to use the following CPU instructions in performance-critical operations:  AVX2 FMA\n",
      "To enable them in other operations, rebuild TensorFlow with the appropriate compiler flags.\n",
      "2023-05-18 16:45:03.163492: I tensorflow/stream_executor/cuda/cuda_gpu_executor.cc:936] successful NUMA node read from SysFS had negative value (-1), but there must be at least one NUMA node, so returning NUMA node zero\n",
      "2023-05-18 16:45:03.163866: I tensorflow/stream_executor/cuda/cuda_gpu_executor.cc:936] successful NUMA node read from SysFS had negative value (-1), but there must be at least one NUMA node, so returning NUMA node zero\n",
      "2023-05-18 16:45:03.164115: I tensorflow/stream_executor/cuda/cuda_gpu_executor.cc:936] successful NUMA node read from SysFS had negative value (-1), but there must be at least one NUMA node, so returning NUMA node zero\n",
      "2023-05-18 16:45:04.329301: I tensorflow/stream_executor/cuda/cuda_gpu_executor.cc:936] successful NUMA node read from SysFS had negative value (-1), but there must be at least one NUMA node, so returning NUMA node zero\n",
      "2023-05-18 16:45:04.329874: I tensorflow/stream_executor/cuda/cuda_gpu_executor.cc:936] successful NUMA node read from SysFS had negative value (-1), but there must be at least one NUMA node, so returning NUMA node zero\n",
      "2023-05-18 16:45:04.330268: I tensorflow/stream_executor/cuda/cuda_gpu_executor.cc:936] successful NUMA node read from SysFS had negative value (-1), but there must be at least one NUMA node, so returning NUMA node zero\n",
      "2023-05-18 16:45:04.330709: I tensorflow/core/common_runtime/gpu/gpu_device.cc:1525] Created device /job:localhost/replica:0/task:0/device:GPU:0 with 2179 MB memory:  -> device: 0, name: NVIDIA GeForce GTX 1650, pci bus id: 0000:01:00.0, compute capability: 7.5\n"
     ]
    }
   ],
   "source": [
    "dataset = tf.keras.preprocessing.image_dataset_from_directory(\n",
    "    \"../datasets-4\",\n",
    "    seed=123, # this will ensure we get the same images each time\n",
    "    shuffle=True, # images inside the batches will be shuffled\n",
    "    image_size=(IMAGE_SIZE,IMAGE_SIZE), # every image will be of 128x128 dimension\n",
    "    batch_size=BATCH_SIZE # There will be 64 images in each batch\n",
    ")"
   ]
  },
  {
   "cell_type": "markdown",
   "metadata": {},
   "source": [
    "## Splitting the Dataset\n",
    "\n",
    "We will take -\n",
    "- 80% data for training our model\n",
    "- 10% data for validation purpose\n",
    "- 10% data for test purpose"
   ]
  },
  {
   "cell_type": "code",
   "execution_count": 4,
   "metadata": {
    "scrolled": true
   },
   "outputs": [
    {
     "name": "stdout",
     "output_type": "stream",
     "text": [
      "\n",
      "    Total Batches: 88,\n",
      "    Training Batches: 70,\n",
      "    Testing Batches: 8,\n",
      "    Validation Batches: 10\n",
      "\n"
     ]
    }
   ],
   "source": [
    "total_batches = len(dataset)\n",
    "train_size = int(0.80 * total_batches)\n",
    "test_size = int(0.10 * total_batches)\n",
    "val_size = total_batches - train_size - test_size\n",
    "\n",
    "print(f\"\"\"\n",
    "    Total Batches: {total_batches},\n",
    "    Training Batches: {train_size},\n",
    "    Testing Batches: {test_size},\n",
    "    Validation Batches: {val_size}\n",
    "\"\"\")\n",
    "\n",
    "train_ds = dataset.take(train_size) # used for training data\n",
    "test_ds = dataset.skip(train_size).take(test_size) # final evaluation will be done on this model\n",
    "val_ds = dataset.skip(train_size + test_size).take(val_size) # used to tune the model"
   ]
  },
  {
   "cell_type": "markdown",
   "metadata": {},
   "source": [
    "## Cache, Shuffle, and Prefetch the Dataset"
   ]
  },
  {
   "cell_type": "code",
   "execution_count": 5,
   "metadata": {},
   "outputs": [],
   "source": [
    "train_ds = train_ds.cache().shuffle(2000).prefetch(buffer_size=tf.data.AUTOTUNE)\n",
    "val_ds = val_ds.cache().shuffle(2000).prefetch(buffer_size=tf.data.AUTOTUNE)\n",
    "test_ds = test_ds.cache().shuffle(2000).prefetch(buffer_size=tf.data.AUTOTUNE)"
   ]
  },
  {
   "cell_type": "markdown",
   "metadata": {},
   "source": [
    "## Image Augmentation"
   ]
  },
  {
   "cell_type": "code",
   "execution_count": 6,
   "metadata": {},
   "outputs": [],
   "source": [
    "data_augmentation = tf.keras.Sequential([\n",
    "    layers.experimental.preprocessing.RandomFlip(\"horizontal_and_vertical\"),\n",
    "    layers.experimental.preprocessing.RandomRotation(0.2),\n",
    "])\n",
    "\n",
    "# Applying Augmentation on Training Data\n",
    "train_ds = train_ds.map(\n",
    "    lambda x, y: (data_augmentation(x, training=True), y)\n",
    ").prefetch(buffer_size=tf.data.AUTOTUNE)"
   ]
  },
  {
   "cell_type": "markdown",
   "metadata": {},
   "source": [
    "## Designing and Training the Model"
   ]
  },
  {
   "cell_type": "code",
   "execution_count": 8,
   "metadata": {},
   "outputs": [],
   "source": [
    "input_shape = (BATCH_SIZE, IMAGE_SIZE, IMAGE_SIZE, CHANNELS)\n",
    "n_classes = len(dataset.class_names)\n",
    "\n",
    "# Load DenseNet model\n",
    "base_model = DenseNet121(\n",
    "    weights='imagenet', \n",
    "    include_top=False, \n",
    "    input_shape=(IMAGE_SIZE, IMAGE_SIZE, CHANNELS)\n",
    ")\n",
    "\n",
    "# Freeze the layers in the base model\n",
    "base_model.trainable = False"
   ]
  },
  {
   "cell_type": "code",
   "execution_count": 9,
   "metadata": {},
   "outputs": [],
   "source": [
    "# Create the model by adding additional layers on top of the base model\n",
    "inputs = tf.keras.Input(shape=(IMAGE_SIZE, IMAGE_SIZE, CHANNELS))\n",
    "x = layers.experimental.preprocessing.Rescaling(1./255)(inputs)\n",
    "x = base_model(x, training=False)\n",
    "x = layers.GlobalAveragePooling2D()(x)\n",
    "x = layers.Dense(512, activation='relu')(x)\n",
    "outputs = layers.Dense(n_classes, activation='softmax')(x)\n",
    "model = Model(inputs=inputs, outputs=outputs)"
   ]
  },
  {
   "cell_type": "code",
   "execution_count": 10,
   "metadata": {},
   "outputs": [
    {
     "name": "stdout",
     "output_type": "stream",
     "text": [
      "Model: \"model\"\n",
      "_________________________________________________________________\n",
      " Layer (type)                Output Shape              Param #   \n",
      "=================================================================\n",
      " input_2 (InputLayer)        [(None, 256, 256, 3)]     0         \n",
      "                                                                 \n",
      " rescaling_1 (Rescaling)     (None, 256, 256, 3)       0         \n",
      "                                                                 \n",
      " densenet121 (Functional)    (None, 8, 8, 1024)        7037504   \n",
      "                                                                 \n",
      " global_average_pooling2d (G  (None, 1024)             0         \n",
      " lobalAveragePooling2D)                                          \n",
      "                                                                 \n",
      " dense (Dense)               (None, 512)               524800    \n",
      "                                                                 \n",
      " dense_1 (Dense)             (None, 4)                 2052      \n",
      "                                                                 \n",
      "=================================================================\n",
      "Total params: 7,564,356\n",
      "Trainable params: 526,852\n",
      "Non-trainable params: 7,037,504\n",
      "_________________________________________________________________\n"
     ]
    }
   ],
   "source": [
    "model.build(input_shape=input_shape)\n",
    "model.summary()"
   ]
  },
  {
   "cell_type": "code",
   "execution_count": 11,
   "metadata": {
    "tags": []
   },
   "outputs": [],
   "source": [
    "# compile the model\n",
    "model.compile(\n",
    "    loss = 'sparse_categorical_crossentropy', \n",
    "    optimizer='Adam',\n",
    "    metrics= [\"accuracy\"]\n",
    ")"
   ]
  },
  {
   "cell_type": "code",
   "execution_count": 12,
   "metadata": {
    "tags": []
   },
   "outputs": [],
   "source": [
    "# use early stopping to exit training if validation loss is not decreasing even after certain epochs (patience)\n",
    "earlystopping = EarlyStopping(\n",
    "    monitor='val_loss', \n",
    "    mode='min', \n",
    "    verbose=1, \n",
    "    patience=20\n",
    ")\n",
    "\n",
    "# save the best model with least validation loss\n",
    "checkpointer = ModelCheckpoint(\n",
    "    filepath=\"finalproject_weights.h5\", \n",
    "    verbose=1, \n",
    "    save_best_only=True\n",
    ")"
   ]
  },
  {
   "cell_type": "code",
   "execution_count": 13,
   "metadata": {
    "tags": []
   },
   "outputs": [
    {
     "name": "stdout",
     "output_type": "stream",
     "text": [
      "Epoch 1/100\n"
     ]
    },
    {
     "name": "stderr",
     "output_type": "stream",
     "text": [
      "2023-05-18 16:45:25.641097: I tensorflow/core/kernels/data/shuffle_dataset_op.cc:390] Filling up shuffle buffer (this may take a while): 13 of 2000\n",
      "2023-05-18 16:45:35.351175: I tensorflow/core/kernels/data/shuffle_dataset_op.cc:390] Filling up shuffle buffer (this may take a while): 35 of 2000\n",
      "2023-05-18 16:45:45.296247: I tensorflow/core/kernels/data/shuffle_dataset_op.cc:390] Filling up shuffle buffer (this may take a while): 57 of 2000\n",
      "2023-05-18 16:45:51.980083: I tensorflow/core/kernels/data/shuffle_dataset_op.cc:415] Shuffle buffer filled.\n",
      "2023-05-18 16:45:53.572002: I tensorflow/stream_executor/cuda/cuda_dnn.cc:368] Loaded cuDNN version 8204\n",
      "2023-05-18 16:45:54.917290: I tensorflow/core/platform/default/subprocess.cc:304] Start cannot spawn child process: No such file or directory\n"
     ]
    },
    {
     "name": "stdout",
     "output_type": "stream",
     "text": [
      "70/70 [==============================] - ETA: 0s - loss: 0.8318 - accuracy: 0.6754"
     ]
    },
    {
     "name": "stderr",
     "output_type": "stream",
     "text": [
      "2023-05-18 16:47:11.713235: I tensorflow/core/kernels/data/shuffle_dataset_op.cc:390] Filling up shuffle buffer (this may take a while): 1 of 2000\n",
      "2023-05-18 16:47:12.342581: I tensorflow/core/kernels/data/shuffle_dataset_op.cc:390] Filling up shuffle buffer (this may take a while): 2 of 2000\n",
      "2023-05-18 16:47:12.349037: I tensorflow/core/kernels/data/shuffle_dataset_op.cc:390] Filling up shuffle buffer (this may take a while): 3 of 2000\n",
      "2023-05-18 16:47:12.355636: I tensorflow/core/kernels/data/shuffle_dataset_op.cc:390] Filling up shuffle buffer (this may take a while): 4 of 2000\n",
      "2023-05-18 16:47:12.392827: I tensorflow/core/kernels/data/shuffle_dataset_op.cc:415] Shuffle buffer filled.\n"
     ]
    },
    {
     "name": "stdout",
     "output_type": "stream",
     "text": [
      "\n",
      "Epoch 1: val_loss improved from inf to 0.57097, saving model to finalproject_weights.h5\n",
      "70/70 [==============================] - 129s 1s/step - loss: 0.8318 - accuracy: 0.6754 - val_loss: 0.5710 - val_accuracy: 0.7767\n",
      "Epoch 2/100\n",
      "70/70 [==============================] - ETA: 0s - loss: 0.5006 - accuracy: 0.8036\n",
      "Epoch 2: val_loss improved from 0.57097 to 0.53568, saving model to finalproject_weights.h5\n",
      "70/70 [==============================] - 32s 454ms/step - loss: 0.5006 - accuracy: 0.8036 - val_loss: 0.5357 - val_accuracy: 0.7799\n",
      "Epoch 3/100\n",
      "70/70 [==============================] - ETA: 0s - loss: 0.4462 - accuracy: 0.8232\n",
      "Epoch 3: val_loss improved from 0.53568 to 0.52707, saving model to finalproject_weights.h5\n",
      "70/70 [==============================] - 32s 453ms/step - loss: 0.4462 - accuracy: 0.8232 - val_loss: 0.5271 - val_accuracy: 0.7925\n",
      "Epoch 4/100\n",
      "70/70 [==============================] - ETA: 0s - loss: 0.3830 - accuracy: 0.8612\n",
      "Epoch 4: val_loss improved from 0.52707 to 0.43273, saving model to finalproject_weights.h5\n",
      "70/70 [==============================] - 32s 452ms/step - loss: 0.3830 - accuracy: 0.8612 - val_loss: 0.4327 - val_accuracy: 0.8145\n",
      "Epoch 5/100\n",
      "70/70 [==============================] - ETA: 0s - loss: 0.3699 - accuracy: 0.8536\n",
      "Epoch 5: val_loss did not improve from 0.43273\n",
      "70/70 [==============================] - 31s 443ms/step - loss: 0.3699 - accuracy: 0.8536 - val_loss: 0.5536 - val_accuracy: 0.7893\n",
      "Epoch 6/100\n",
      "70/70 [==============================] - ETA: 0s - loss: 0.4207 - accuracy: 0.8424\n",
      "Epoch 6: val_loss did not improve from 0.43273\n",
      "70/70 [==============================] - 31s 442ms/step - loss: 0.4207 - accuracy: 0.8424 - val_loss: 0.4580 - val_accuracy: 0.7956\n",
      "Epoch 7/100\n",
      "70/70 [==============================] - ETA: 0s - loss: 0.3352 - accuracy: 0.8750\n",
      "Epoch 7: val_loss improved from 0.43273 to 0.39942, saving model to finalproject_weights.h5\n",
      "70/70 [==============================] - 32s 454ms/step - loss: 0.3352 - accuracy: 0.8750 - val_loss: 0.3994 - val_accuracy: 0.8302\n",
      "Epoch 8/100\n",
      "70/70 [==============================] - ETA: 0s - loss: 0.3564 - accuracy: 0.8710\n",
      "Epoch 8: val_loss improved from 0.39942 to 0.38388, saving model to finalproject_weights.h5\n",
      "70/70 [==============================] - 32s 452ms/step - loss: 0.3564 - accuracy: 0.8710 - val_loss: 0.3839 - val_accuracy: 0.8428\n",
      "Epoch 9/100\n",
      "70/70 [==============================] - ETA: 0s - loss: 0.3331 - accuracy: 0.8701\n",
      "Epoch 9: val_loss improved from 0.38388 to 0.34874, saving model to finalproject_weights.h5\n",
      "70/70 [==============================] - 32s 452ms/step - loss: 0.3331 - accuracy: 0.8701 - val_loss: 0.3487 - val_accuracy: 0.8679\n",
      "Epoch 10/100\n",
      "70/70 [==============================] - ETA: 0s - loss: 0.2937 - accuracy: 0.8875\n",
      "Epoch 10: val_loss did not improve from 0.34874\n",
      "70/70 [==============================] - 31s 440ms/step - loss: 0.2937 - accuracy: 0.8875 - val_loss: 0.4015 - val_accuracy: 0.8711\n",
      "Epoch 11/100\n",
      "70/70 [==============================] - ETA: 0s - loss: 0.3066 - accuracy: 0.8848\n",
      "Epoch 11: val_loss did not improve from 0.34874\n",
      "70/70 [==============================] - 31s 442ms/step - loss: 0.3066 - accuracy: 0.8848 - val_loss: 0.3942 - val_accuracy: 0.8333\n",
      "Epoch 12/100\n",
      "70/70 [==============================] - ETA: 0s - loss: 0.2986 - accuracy: 0.8835\n",
      "Epoch 12: val_loss did not improve from 0.34874\n",
      "70/70 [==============================] - 31s 443ms/step - loss: 0.2986 - accuracy: 0.8835 - val_loss: 0.3866 - val_accuracy: 0.8333\n",
      "Epoch 13/100\n",
      "70/70 [==============================] - ETA: 0s - loss: 0.2867 - accuracy: 0.8906\n",
      "Epoch 13: val_loss improved from 0.34874 to 0.33399, saving model to finalproject_weights.h5\n",
      "70/70 [==============================] - 32s 451ms/step - loss: 0.2867 - accuracy: 0.8906 - val_loss: 0.3340 - val_accuracy: 0.8931\n",
      "Epoch 14/100\n",
      "70/70 [==============================] - ETA: 0s - loss: 0.2733 - accuracy: 0.8960\n",
      "Epoch 14: val_loss did not improve from 0.33399\n",
      "70/70 [==============================] - 31s 445ms/step - loss: 0.2733 - accuracy: 0.8960 - val_loss: 0.3740 - val_accuracy: 0.8491\n",
      "Epoch 15/100\n",
      "70/70 [==============================] - ETA: 0s - loss: 0.2637 - accuracy: 0.8996\n",
      "Epoch 15: val_loss did not improve from 0.33399\n",
      "70/70 [==============================] - 31s 441ms/step - loss: 0.2637 - accuracy: 0.8996 - val_loss: 0.3652 - val_accuracy: 0.8585\n",
      "Epoch 16/100\n",
      "70/70 [==============================] - ETA: 0s - loss: 0.2782 - accuracy: 0.8879\n",
      "Epoch 16: val_loss did not improve from 0.33399\n",
      "70/70 [==============================] - 31s 442ms/step - loss: 0.2782 - accuracy: 0.8879 - val_loss: 0.3681 - val_accuracy: 0.8491\n",
      "Epoch 17/100\n",
      "70/70 [==============================] - ETA: 0s - loss: 0.2682 - accuracy: 0.9000\n",
      "Epoch 17: val_loss did not improve from 0.33399\n",
      "70/70 [==============================] - 31s 443ms/step - loss: 0.2682 - accuracy: 0.9000 - val_loss: 0.3987 - val_accuracy: 0.8522\n",
      "Epoch 18/100\n",
      "70/70 [==============================] - ETA: 0s - loss: 0.2606 - accuracy: 0.9031\n",
      "Epoch 18: val_loss did not improve from 0.33399\n",
      "70/70 [==============================] - 31s 441ms/step - loss: 0.2606 - accuracy: 0.9031 - val_loss: 0.4636 - val_accuracy: 0.8302\n",
      "Epoch 19/100\n",
      "70/70 [==============================] - ETA: 0s - loss: 0.2603 - accuracy: 0.8996\n",
      "Epoch 19: val_loss did not improve from 0.33399\n",
      "70/70 [==============================] - 31s 441ms/step - loss: 0.2603 - accuracy: 0.8996 - val_loss: 0.3747 - val_accuracy: 0.8522\n",
      "Epoch 20/100\n",
      "70/70 [==============================] - ETA: 0s - loss: 0.2706 - accuracy: 0.8938\n",
      "Epoch 20: val_loss did not improve from 0.33399\n",
      "70/70 [==============================] - 31s 442ms/step - loss: 0.2706 - accuracy: 0.8938 - val_loss: 0.3842 - val_accuracy: 0.8774\n",
      "Epoch 21/100\n",
      "70/70 [==============================] - ETA: 0s - loss: 0.2574 - accuracy: 0.9022\n",
      "Epoch 21: val_loss did not improve from 0.33399\n",
      "70/70 [==============================] - 31s 447ms/step - loss: 0.2574 - accuracy: 0.9022 - val_loss: 0.3847 - val_accuracy: 0.8711\n",
      "Epoch 22/100\n",
      "70/70 [==============================] - ETA: 0s - loss: 0.2362 - accuracy: 0.9103\n",
      "Epoch 22: val_loss did not improve from 0.33399\n",
      "70/70 [==============================] - 31s 444ms/step - loss: 0.2362 - accuracy: 0.9103 - val_loss: 0.4313 - val_accuracy: 0.8459\n",
      "Epoch 23/100\n",
      "70/70 [==============================] - ETA: 0s - loss: 0.2475 - accuracy: 0.9013\n",
      "Epoch 23: val_loss did not improve from 0.33399\n",
      "70/70 [==============================] - 31s 444ms/step - loss: 0.2475 - accuracy: 0.9013 - val_loss: 0.4247 - val_accuracy: 0.8459\n",
      "Epoch 24/100\n",
      "70/70 [==============================] - ETA: 0s - loss: 0.2254 - accuracy: 0.9147\n",
      "Epoch 24: val_loss improved from 0.33399 to 0.28688, saving model to finalproject_weights.h5\n",
      "70/70 [==============================] - 32s 453ms/step - loss: 0.2254 - accuracy: 0.9147 - val_loss: 0.2869 - val_accuracy: 0.9119\n",
      "Epoch 25/100\n",
      "70/70 [==============================] - ETA: 0s - loss: 0.2389 - accuracy: 0.9058\n",
      "Epoch 25: val_loss did not improve from 0.28688\n",
      "70/70 [==============================] - 31s 443ms/step - loss: 0.2389 - accuracy: 0.9058 - val_loss: 0.3749 - val_accuracy: 0.8459\n",
      "Epoch 26/100\n",
      "70/70 [==============================] - ETA: 0s - loss: 0.2392 - accuracy: 0.9058\n",
      "Epoch 26: val_loss did not improve from 0.28688\n",
      "70/70 [==============================] - 31s 442ms/step - loss: 0.2392 - accuracy: 0.9058 - val_loss: 0.3870 - val_accuracy: 0.8553\n",
      "Epoch 27/100\n",
      "70/70 [==============================] - ETA: 0s - loss: 0.2454 - accuracy: 0.9049\n",
      "Epoch 27: val_loss did not improve from 0.28688\n",
      "70/70 [==============================] - 31s 445ms/step - loss: 0.2454 - accuracy: 0.9049 - val_loss: 0.4414 - val_accuracy: 0.8553\n",
      "Epoch 28/100\n",
      "70/70 [==============================] - ETA: 0s - loss: 0.2184 - accuracy: 0.9219\n",
      "Epoch 28: val_loss did not improve from 0.28688\n",
      "70/70 [==============================] - 31s 441ms/step - loss: 0.2184 - accuracy: 0.9219 - val_loss: 0.3044 - val_accuracy: 0.8994\n",
      "Epoch 29/100\n",
      "70/70 [==============================] - ETA: 0s - loss: 0.2190 - accuracy: 0.9196\n",
      "Epoch 29: val_loss did not improve from 0.28688\n",
      "70/70 [==============================] - 31s 441ms/step - loss: 0.2190 - accuracy: 0.9196 - val_loss: 0.3436 - val_accuracy: 0.8805\n",
      "Epoch 30/100\n",
      "70/70 [==============================] - ETA: 0s - loss: 0.2312 - accuracy: 0.9107\n",
      "Epoch 30: val_loss did not improve from 0.28688\n",
      "70/70 [==============================] - 31s 441ms/step - loss: 0.2312 - accuracy: 0.9107 - val_loss: 0.3174 - val_accuracy: 0.8648\n",
      "Epoch 31/100\n",
      "70/70 [==============================] - ETA: 0s - loss: 0.1999 - accuracy: 0.9196\n",
      "Epoch 31: val_loss did not improve from 0.28688\n",
      "70/70 [==============================] - 31s 441ms/step - loss: 0.1999 - accuracy: 0.9196 - val_loss: 0.3068 - val_accuracy: 0.8711\n",
      "Epoch 32/100\n",
      "70/70 [==============================] - ETA: 0s - loss: 0.2390 - accuracy: 0.9085\n",
      "Epoch 32: val_loss did not improve from 0.28688\n",
      "70/70 [==============================] - 31s 444ms/step - loss: 0.2390 - accuracy: 0.9085 - val_loss: 0.3015 - val_accuracy: 0.8805\n",
      "Epoch 33/100\n",
      "70/70 [==============================] - ETA: 0s - loss: 0.2135 - accuracy: 0.9241\n",
      "Epoch 33: val_loss did not improve from 0.28688\n",
      "70/70 [==============================] - 31s 442ms/step - loss: 0.2135 - accuracy: 0.9241 - val_loss: 0.4513 - val_accuracy: 0.8365\n",
      "Epoch 34/100\n",
      "70/70 [==============================] - ETA: 0s - loss: 0.2108 - accuracy: 0.9183\n",
      "Epoch 34: val_loss did not improve from 0.28688\n",
      "70/70 [==============================] - 31s 444ms/step - loss: 0.2108 - accuracy: 0.9183 - val_loss: 0.3533 - val_accuracy: 0.8774\n",
      "Epoch 35/100\n",
      "70/70 [==============================] - ETA: 0s - loss: 0.2077 - accuracy: 0.9187\n",
      "Epoch 35: val_loss did not improve from 0.28688\n",
      "70/70 [==============================] - 31s 443ms/step - loss: 0.2077 - accuracy: 0.9187 - val_loss: 0.3355 - val_accuracy: 0.8774\n",
      "Epoch 36/100\n",
      "70/70 [==============================] - ETA: 0s - loss: 0.1928 - accuracy: 0.9312\n",
      "Epoch 36: val_loss did not improve from 0.28688\n",
      "70/70 [==============================] - 31s 444ms/step - loss: 0.1928 - accuracy: 0.9312 - val_loss: 0.4538 - val_accuracy: 0.8491\n",
      "Epoch 37/100\n",
      "70/70 [==============================] - ETA: 0s - loss: 0.2226 - accuracy: 0.9107\n",
      "Epoch 37: val_loss did not improve from 0.28688\n",
      "70/70 [==============================] - 31s 443ms/step - loss: 0.2226 - accuracy: 0.9107 - val_loss: 0.3368 - val_accuracy: 0.8522\n",
      "Epoch 38/100\n",
      "70/70 [==============================] - ETA: 0s - loss: 0.2190 - accuracy: 0.9134\n",
      "Epoch 38: val_loss did not improve from 0.28688\n",
      "70/70 [==============================] - 31s 441ms/step - loss: 0.2190 - accuracy: 0.9134 - val_loss: 0.4432 - val_accuracy: 0.8585\n",
      "Epoch 39/100\n",
      "70/70 [==============================] - ETA: 0s - loss: 0.1982 - accuracy: 0.9201\n",
      "Epoch 39: val_loss did not improve from 0.28688\n",
      "70/70 [==============================] - 31s 441ms/step - loss: 0.1982 - accuracy: 0.9201 - val_loss: 0.3010 - val_accuracy: 0.8868\n",
      "Epoch 40/100\n",
      "70/70 [==============================] - ETA: 0s - loss: 0.2018 - accuracy: 0.9214\n",
      "Epoch 40: val_loss did not improve from 0.28688\n",
      "70/70 [==============================] - 31s 442ms/step - loss: 0.2018 - accuracy: 0.9214 - val_loss: 0.3446 - val_accuracy: 0.8553\n",
      "Epoch 41/100\n",
      "70/70 [==============================] - ETA: 0s - loss: 0.2209 - accuracy: 0.9192\n",
      "Epoch 41: val_loss did not improve from 0.28688\n",
      "70/70 [==============================] - 31s 442ms/step - loss: 0.2209 - accuracy: 0.9192 - val_loss: 0.3030 - val_accuracy: 0.8711\n",
      "Epoch 42/100\n",
      "70/70 [==============================] - ETA: 0s - loss: 0.2046 - accuracy: 0.9205\n",
      "Epoch 42: val_loss did not improve from 0.28688\n",
      "70/70 [==============================] - 31s 442ms/step - loss: 0.2046 - accuracy: 0.9205 - val_loss: 0.3026 - val_accuracy: 0.8868\n",
      "Epoch 43/100\n",
      "70/70 [==============================] - ETA: 0s - loss: 0.1844 - accuracy: 0.9299\n",
      "Epoch 43: val_loss did not improve from 0.28688\n",
      "70/70 [==============================] - 31s 443ms/step - loss: 0.1844 - accuracy: 0.9299 - val_loss: 0.5863 - val_accuracy: 0.7987\n",
      "Epoch 44/100\n",
      "70/70 [==============================] - ETA: 0s - loss: 0.2066 - accuracy: 0.9196\n",
      "Epoch 44: val_loss did not improve from 0.28688\n",
      "70/70 [==============================] - 31s 450ms/step - loss: 0.2066 - accuracy: 0.9196 - val_loss: 0.2975 - val_accuracy: 0.8962\n",
      "Epoch 44: early stopping\n"
     ]
    }
   ],
   "source": [
    "history = model.fit(\n",
    "    train_ds, \n",
    "    epochs = 100,\n",
    "    validation_data=val_ds,\n",
    "    batch_size=BATCH_SIZE,\n",
    "    shuffle=True,\n",
    "    callbacks=[earlystopping, checkpointer]\n",
    ")"
   ]
  },
  {
   "cell_type": "markdown",
   "metadata": {},
   "source": [
    "## Model Evaluation"
   ]
  },
  {
   "cell_type": "code",
   "execution_count": 14,
   "metadata": {},
   "outputs": [
    {
     "data": {
      "image/png": "[encoded data removed]",
      "text/plain": [
       "<Figure size 432x288 with 1 Axes>"
      ]
     },
     "metadata": {
      "needs_background": "light"
     },
     "output_type": "display_data"
    }
   ],
   "source": [
    "# The is how training loss and validation loss varied during training\n",
    "plt.plot(history.history['loss'])\n",
    "plt.plot(history.history['val_loss'])\n",
    "plt.title('model loss')\n",
    "plt.ylabel('loss')\n",
    "plt.xlabel('epoch')\n",
    "plt.legend(['train', 'val'], loc='upper right')\n",
    "plt.show()"
   ]
  },
  {
   "cell_type": "code",
   "execution_count": 15,
   "metadata": {},
   "outputs": [
    {
     "data": {
      "image/png": "[encoded data removed]",
      "text/plain": [
       "<Figure size 432x288 with 1 Axes>"
      ]
     },
     "metadata": {
      "needs_background": "light"
     },
     "output_type": "display_data"
    }
   ],
   "source": [
    "# The is how training accuracy and validation accuracy varied during training\n",
    "plt.plot(history.history['accuracy'])\n",
    "plt.plot(history.history['val_accuracy'])\n",
    "plt.title('model accuracy')\n",
    "plt.ylabel('accuracy')\n",
    "plt.xlabel('epoch')\n",
    "plt.legend(['train', 'val'], loc='upper left')\n",
    "plt.show()"
   ]
  },
  {
   "cell_type": "code",
   "execution_count": 16,
   "metadata": {
    "tags": []
   },
   "outputs": [],
   "source": [
    "# save the model architecture to json file for future use\n",
    "\n",
    "model_json = model.to_json()\n",
    "with open(\"finalproject_model.json\",\"w\") as json_file:\n",
    "  json_file.write(model_json)"
   ]
  },
  {
   "cell_type": "markdown",
   "metadata": {},
   "source": [
    "## Evaluating the Saved Model Performance"
   ]
  },
  {
   "cell_type": "code",
   "execution_count": 17,
   "metadata": {
    "tags": []
   },
   "outputs": [],
   "source": [
    "# Load pretrained model (best saved one)\n",
    "with open('finalproject_model.json', 'r') as json_file:\n",
    "    json_savedModel= json_file.read()\n",
    "# load the model  \n",
    "model = tf.keras.models.model_from_json(json_savedModel)\n",
    "model.load_weights('finalproject_weights.h5')\n",
    "model.compile(loss = 'sparse_categorical_crossentropy', optimizer='Adam', metrics= [\"accuracy\"])"
   ]
  },
  {
   "cell_type": "code",
   "execution_count": 18,
   "metadata": {},
   "outputs": [
    {
     "name": "stderr",
     "output_type": "stream",
     "text": [
      "2023-05-18 17:10:28.708311: I tensorflow/core/kernels/data/shuffle_dataset_op.cc:390] Filling up shuffle buffer (this may take a while): 1 of 2000\n",
      "2023-05-18 17:10:29.114274: I tensorflow/core/kernels/data/shuffle_dataset_op.cc:390] Filling up shuffle buffer (this may take a while): 2 of 2000\n",
      "2023-05-18 17:10:29.672667: I tensorflow/core/kernels/data/shuffle_dataset_op.cc:390] Filling up shuffle buffer (this may take a while): 3 of 2000\n",
      "2023-05-18 17:10:30.841669: I tensorflow/core/kernels/data/shuffle_dataset_op.cc:390] Filling up shuffle buffer (this may take a while): 6 of 2000\n",
      "2023-05-18 17:10:32.390671: I tensorflow/core/kernels/data/shuffle_dataset_op.cc:415] Shuffle buffer filled.\n"
     ]
    },
    {
     "name": "stdout",
     "output_type": "stream",
     "text": [
      "8/8 [==============================] - 47s 188ms/step - loss: 0.2564 - accuracy: 0.9062\n"
     ]
    }
   ],
   "source": [
    "scores = model.evaluate(test_ds)"
   ]
  },
  {
   "cell_type": "code",
   "execution_count": 19,
   "metadata": {},
   "outputs": [],
   "source": [
    "predict = []\n",
    "y_test = np.array([])\n",
    "for images, labels in test_ds:\n",
    "    y_test = np.concatenate((y_test, labels.numpy()), axis=0).astype(int)\n",
    "    predictions = model.predict(images)\n",
    "    predict.extend(np.argmax(predictions, axis=1))\n",
    "predict = np.asarray(predict)"
   ]
  },
  {
   "cell_type": "code",
   "execution_count": 20,
   "metadata": {},
   "outputs": [
    {
     "name": "stdout",
     "output_type": "stream",
     "text": [
      "Accuracy: 0.90625\n"
     ]
    }
   ],
   "source": [
    "# Obtain the accuracy of the model\n",
    "from sklearn.metrics import accuracy_score\n",
    "\n",
    "accuracy = accuracy_score(y_test, predict)\n",
    "print(f\"Accuracy: {accuracy}\")"
   ]
  },
  {
   "cell_type": "code",
   "execution_count": 21,
   "metadata": {},
   "outputs": [
    {
     "data": {
      "text/plain": [
       "<AxesSubplot:>"
      ]
     },
     "execution_count": 21,
     "metadata": {},
     "output_type": "execute_result"
    },
    {
     "data": {
      "image/png": "[encoded data removed]",
      "text/plain": [
       "<Figure size 504x504 with 2 Axes>"
      ]
     },
     "metadata": {
      "needs_background": "light"
     },
     "output_type": "display_data"
    }
   ],
   "source": [
    "# plot the confusion matrix\n",
    "from sklearn.metrics import confusion_matrix\n",
    "\n",
    "cm = confusion_matrix(y_test, predict)\n",
    "plt.figure(figsize = (7,7))\n",
    "sns.heatmap(cm, annot=True, cmap='Blues')"
   ]
  },
  {
   "cell_type": "code",
   "execution_count": 22,
   "metadata": {},
   "outputs": [
    {
     "name": "stdout",
     "output_type": "stream",
     "text": [
      "              precision    recall  f1-score   support\n",
      "\n",
      "           0       0.93      0.96      0.95        45\n",
      "           1       0.86      0.94      0.90       102\n",
      "           2       0.93      0.81      0.87        52\n",
      "           3       0.94      0.89      0.92        57\n",
      "\n",
      "    accuracy                           0.91       256\n",
      "   macro avg       0.92      0.90      0.91       256\n",
      "weighted avg       0.91      0.91      0.91       256\n",
      "\n"
     ]
    }
   ],
   "source": [
    "from sklearn.metrics import classification_report\n",
    "\n",
    "report = classification_report(y_test, predict)\n",
    "print(report)"
   ]
  }
 ],
 "metadata": {
  "kernelspec": {
   "display_name": "Python 3 (ipykernel)",
   "language": "python",
   "name": "python3"
  },
  "language_info": {
   "codemirror_mode": {
    "name": "ipython",
    "version": 3
   },
   "file_extension": ".py",
   "mimetype": "text/x-python",
   "name": "python",
   "nbconvert_exporter": "python",
   "pygments_lexer": "ipython3",
   "version": "3.8.10"
  }
 },
 "nbformat": 4,
 "nbformat_minor": 4
}
