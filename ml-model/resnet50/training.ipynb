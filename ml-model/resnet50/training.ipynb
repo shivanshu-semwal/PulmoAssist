{
 "cells": [
  {
   "cell_type": "code",
   "execution_count": 1,
   "metadata": {},
   "outputs": [],
   "source": [
    "import numpy as np\n",
    "import seaborn as sns\n",
    "import matplotlib.pyplot as plt\n",
    "import os\n",
    "import tensorflow as tf\n",
    "from tensorflow.keras import layers, optimizers\n",
    "from tensorflow.keras.layers import *\n",
    "from tensorflow.keras.preprocessing.image import ImageDataGenerator\n",
    "from tensorflow.keras.models import Model, load_model\n",
    "from tensorflow.keras.applications import ResNet50\n",
    "from tensorflow.keras.callbacks import EarlyStopping, ModelCheckpoint"
   ]
  },
  {
   "cell_type": "markdown",
   "metadata": {},
   "source": [
    "## Loading Images from the Disk"
   ]
  },
  {
   "cell_type": "code",
   "execution_count": 2,
   "metadata": {},
   "outputs": [],
   "source": [
    "IMAGE_SIZE = 256\n",
    "BATCH_SIZE = 32\n",
    "CHANNELS = 3"
   ]
  },
  {
   "cell_type": "code",
   "execution_count": 3,
   "metadata": {},
   "outputs": [
    {
     "name": "stdout",
     "output_type": "stream",
     "text": [
      "Found 2814 files belonging to 4 classes.\n"
     ]
    },
    {
     "name": "stderr",
     "output_type": "stream",
     "text": [
      "2023-05-19 10:51:07.086136: I tensorflow/stream_executor/cuda/cuda_gpu_executor.cc:936] successful NUMA node read from SysFS had negative value (-1), but there must be at least one NUMA node, so returning NUMA node zero\n",
      "2023-05-19 10:51:07.181230: I tensorflow/stream_executor/cuda/cuda_gpu_executor.cc:936] successful NUMA node read from SysFS had negative value (-1), but there must be at least one NUMA node, so returning NUMA node zero\n",
      "2023-05-19 10:51:07.182605: I tensorflow/stream_executor/cuda/cuda_gpu_executor.cc:936] successful NUMA node read from SysFS had negative value (-1), but there must be at least one NUMA node, so returning NUMA node zero\n",
      "2023-05-19 10:51:07.184970: I tensorflow/core/platform/cpu_feature_guard.cc:151] This TensorFlow binary is optimized with oneAPI Deep Neural Network Library (oneDNN) to use the following CPU instructions in performance-critical operations:  AVX2 FMA\n",
      "To enable them in other operations, rebuild TensorFlow with the appropriate compiler flags.\n",
      "2023-05-19 10:51:07.186688: I tensorflow/stream_executor/cuda/cuda_gpu_executor.cc:936] successful NUMA node read from SysFS had negative value (-1), but there must be at least one NUMA node, so returning NUMA node zero\n",
      "2023-05-19 10:51:07.187386: I tensorflow/stream_executor/cuda/cuda_gpu_executor.cc:936] successful NUMA node read from SysFS had negative value (-1), but there must be at least one NUMA node, so returning NUMA node zero\n",
      "2023-05-19 10:51:07.188090: I tensorflow/stream_executor/cuda/cuda_gpu_executor.cc:936] successful NUMA node read from SysFS had negative value (-1), but there must be at least one NUMA node, so returning NUMA node zero\n",
      "2023-05-19 10:51:08.168313: I tensorflow/stream_executor/cuda/cuda_gpu_executor.cc:936] successful NUMA node read from SysFS had negative value (-1), but there must be at least one NUMA node, so returning NUMA node zero\n",
      "2023-05-19 10:51:08.168516: I tensorflow/stream_executor/cuda/cuda_gpu_executor.cc:936] successful NUMA node read from SysFS had negative value (-1), but there must be at least one NUMA node, so returning NUMA node zero\n",
      "2023-05-19 10:51:08.168674: I tensorflow/stream_executor/cuda/cuda_gpu_executor.cc:936] successful NUMA node read from SysFS had negative value (-1), but there must be at least one NUMA node, so returning NUMA node zero\n",
      "2023-05-19 10:51:08.169145: I tensorflow/core/common_runtime/gpu/gpu_device.cc:1525] Created device /job:localhost/replica:0/task:0/device:GPU:0 with 2073 MB memory:  -> device: 0, name: NVIDIA GeForce GTX 1650, pci bus id: 0000:01:00.0, compute capability: 7.5\n"
     ]
    }
   ],
   "source": [
    "dataset = tf.keras.preprocessing.image_dataset_from_directory(\n",
    "    \"../datasets-4\",\n",
    "    seed=123,\n",
    "    shuffle=True,\n",
    "    image_size=(IMAGE_SIZE, IMAGE_SIZE),\n",
    "    batch_size=BATCH_SIZE\n",
    ")"
   ]
  },
  {
   "cell_type": "markdown",
   "metadata": {},
   "source": [
    "## Splitting the Dataset\n",
    "\n",
    "We will take -\n",
    "- 80% data for training our model\n",
    "- 10% data for validation purpose\n",
    "- 10% data for test purpose"
   ]
  },
  {
   "cell_type": "code",
   "execution_count": 4,
   "metadata": {},
   "outputs": [
    {
     "name": "stdout",
     "output_type": "stream",
     "text": [
      "\n",
      "    Total Batches: 88,\n",
      "    Training Batches: 66,\n",
      "    Testing Batches: 8,\n",
      "    Validation Batches: 14\n",
      "\n"
     ]
    }
   ],
   "source": [
    "total_batches = len(dataset)\n",
    "train_size = int(0.75 * total_batches)\n",
    "test_size = int(0.10 * total_batches)\n",
    "val_size = total_batches - train_size - test_size\n",
    "\n",
    "print(f\"\"\"\n",
    "    Total Batches: {total_batches},\n",
    "    Training Batches: {train_size},\n",
    "    Testing Batches: {test_size},\n",
    "    Validation Batches: {val_size}\n",
    "\"\"\")\n",
    "\n",
    "train_ds = dataset.take(train_size) # used for training data\n",
    "test_ds = dataset.skip(train_size).take(test_size) # final evaluation will be done on this model\n",
    "val_ds = dataset.skip(train_size + test_size).take(val_size) # used to tune the model"
   ]
  },
  {
   "cell_type": "markdown",
   "metadata": {},
   "source": [
    "## Cache, Shuffle, and Prefetch the Dataset"
   ]
  },
  {
   "cell_type": "code",
   "execution_count": 5,
   "metadata": {},
   "outputs": [],
   "source": [
    "train_ds = train_ds.cache().shuffle(2000).prefetch(buffer_size=tf.data.AUTOTUNE)\n",
    "val_ds = val_ds.cache().shuffle(2000).prefetch(buffer_size=tf.data.AUTOTUNE)\n",
    "test_ds = test_ds.cache().shuffle(2000).prefetch(buffer_size=tf.data.AUTOTUNE)"
   ]
  },
  {
   "cell_type": "markdown",
   "metadata": {},
   "source": [
    "## Image Augmentation"
   ]
  },
  {
   "cell_type": "code",
   "execution_count": 7,
   "metadata": {},
   "outputs": [],
   "source": [
    "data_augmentation = tf.keras.Sequential([\n",
    "    layers.experimental.preprocessing.RandomFlip(\"horizontal_and_vertical\"),\n",
    "    layers.experimental.preprocessing.RandomRotation(0.2),\n",
    "])\n",
    "\n",
    "# Applying Augmentation on Training Data\n",
    "train_ds = train_ds.map(\n",
    "    lambda x, y: (data_augmentation(x, training=True), y)\n",
    ").prefetch(buffer_size=tf.data.AUTOTUNE)"
   ]
  },
  {
   "cell_type": "markdown",
   "metadata": {},
   "source": [
    "## Designing and Training the Model"
   ]
  },
  {
   "cell_type": "code",
   "execution_count": 17,
   "metadata": {},
   "outputs": [],
   "source": [
    "input_shape = (BATCH_SIZE, IMAGE_SIZE, IMAGE_SIZE, CHANNELS)\n",
    "n_classes = len(dataset.class_names)"
   ]
  },
  {
   "cell_type": "code",
   "execution_count": 18,
   "metadata": {},
   "outputs": [],
   "source": [
    "# Load pre-trained ResNet50 model\n",
    "base_model = ResNet50(\n",
    "    weights='imagenet',\n",
    "    include_top=False,\n",
    "    input_tensor=Input(shape=(IMAGE_SIZE, IMAGE_SIZE, CHANNELS)),\n",
    "    pooling=None\n",
    ")"
   ]
  },
  {
   "cell_type": "code",
   "execution_count": 19,
   "metadata": {},
   "outputs": [],
   "source": [
    "# Freeze the base model's layers\n",
    "base_model.trainable = False\n",
    "\n",
    "# Create new model on top of the pre-trained base model\n",
    "inputs = tf.keras.Input(shape=(IMAGE_SIZE, IMAGE_SIZE, CHANNELS))\n",
    "x = base_model(inputs, training=False)\n",
    "x = GlobalAveragePooling2D()(x)\n",
    "x = Dense(512, activation='relu')(x)\n",
    "x = Dropout(0.5)(x)\n",
    "x = Dense(256, activation='relu')(x)\n",
    "x = Dropout(0.3)(x)\n",
    "x = Dense(128, activation='relu')(x)\n",
    "outputs = Dense(len(dataset.class_names), activation='softmax')(x)\n",
    "\n",
    "model = tf.keras.Model(inputs, outputs)"
   ]
  },
  {
   "cell_type": "code",
   "execution_count": 20,
   "metadata": {},
   "outputs": [
    {
     "name": "stdout",
     "output_type": "stream",
     "text": [
      "Model: \"model\"\n",
      "_________________________________________________________________\n",
      " Layer (type)                Output Shape              Param #   \n",
      "=================================================================\n",
      " input_2 (InputLayer)        [(None, 256, 256, 3)]     0         \n",
      "                                                                 \n",
      " resnet50 (Functional)       (None, 8, 8, 2048)        23587712  \n",
      "                                                                 \n",
      " global_average_pooling2d (G  (None, 2048)             0         \n",
      " lobalAveragePooling2D)                                          \n",
      "                                                                 \n",
      " dense (Dense)               (None, 512)               1049088   \n",
      "                                                                 \n",
      " dropout (Dropout)           (None, 512)               0         \n",
      "                                                                 \n",
      " dense_1 (Dense)             (None, 256)               131328    \n",
      "                                                                 \n",
      " dropout_1 (Dropout)         (None, 256)               0         \n",
      "                                                                 \n",
      " dense_2 (Dense)             (None, 128)               32896     \n",
      "                                                                 \n",
      " dense_3 (Dense)             (None, 4)                 516       \n",
      "                                                                 \n",
      "=================================================================\n",
      "Total params: 24,801,540\n",
      "Trainable params: 1,213,828\n",
      "Non-trainable params: 23,587,712\n",
      "_________________________________________________________________\n"
     ]
    }
   ],
   "source": [
    "model.compile(\n",
    "    loss='sparse_categorical_crossentropy',\n",
    "    optimizer=tf.keras.optimizers.Adam(learning_rate=0.0001),\n",
    "    metrics=[\"accuracy\"]\n",
    ")\n",
    "model.summary()"
   ]
  },
  {
   "cell_type": "code",
   "execution_count": 21,
   "metadata": {},
   "outputs": [],
   "source": [
    "early_stopping = tf.keras.callbacks.EarlyStopping(\n",
    "    monitor='val_loss',\n",
    "    mode='min',\n",
    "    verbose=1,\n",
    "    patience=10\n",
    ")\n",
    "\n",
    "# Save the best model with the least validation loss\n",
    "checkpointer = tf.keras.callbacks.ModelCheckpoint(\n",
    "    filepath=\"finalproject_weights.h5\",\n",
    "    verbose=1,\n",
    "    save_best_only=True\n",
    ")"
   ]
  },
  {
   "cell_type": "code",
   "execution_count": 14,
   "metadata": {},
   "outputs": [
    {
     "name": "stdout",
     "output_type": "stream",
     "text": [
      "Epoch 1/50\n"
     ]
    },
    {
     "name": "stderr",
     "output_type": "stream",
     "text": [
      "2023-05-17 14:26:09.307761: W tensorflow/core/framework/cpu_allocator_impl.cc:82] Allocation of 20382276 exceeds 10% of free system memory.\n",
      "2023-05-17 14:26:09.315080: W tensorflow/core/framework/cpu_allocator_impl.cc:82] Allocation of 26847210 exceeds 10% of free system memory.\n",
      "2023-05-17 14:26:09.318979: W tensorflow/core/framework/cpu_allocator_impl.cc:82] Allocation of 26802336 exceeds 10% of free system memory.\n",
      "2023-05-17 14:26:09.332187: W tensorflow/core/framework/cpu_allocator_impl.cc:82] Allocation of 26505000 exceeds 10% of free system memory.\n",
      "2023-05-17 14:26:09.481627: W tensorflow/core/framework/cpu_allocator_impl.cc:82] Allocation of 26451000 exceeds 10% of free system memory.\n",
      "2023-05-17 14:26:19.810929: I tensorflow/core/kernels/data/shuffle_dataset_op.cc:390] Filling up shuffle buffer (this may take a while): 13 of 2000\n",
      "2023-05-17 14:26:29.639991: I tensorflow/core/kernels/data/shuffle_dataset_op.cc:390] Filling up shuffle buffer (this may take a while): 35 of 2000\n",
      "2023-05-17 14:26:39.421555: I tensorflow/core/kernels/data/shuffle_dataset_op.cc:390] Filling up shuffle buffer (this may take a while): 56 of 2000\n",
      "2023-05-17 14:26:44.522338: I tensorflow/core/kernels/data/shuffle_dataset_op.cc:415] Shuffle buffer filled.\n",
      "2023-05-17 14:26:45.954080: I tensorflow/stream_executor/cuda/cuda_dnn.cc:368] Loaded cuDNN version 8204\n",
      "2023-05-17 14:26:47.464074: I tensorflow/core/platform/default/subprocess.cc:304] Start cannot spawn child process: No such file or directory\n"
     ]
    },
    {
     "name": "stdout",
     "output_type": "stream",
     "text": [
      " 1/66 [..............................] - ETA: 48:17 - loss: 2.6923 - accuracy: 0.1562"
     ]
    },
    {
     "name": "stderr",
     "output_type": "stream",
     "text": [
      "2023-05-17 14:26:50.367423: W tensorflow/core/common_runtime/bfc_allocator.cc:275] Allocator (GPU_0_bfc) ran out of memory trying to allocate 2.30GiB with freed_by_count=0. The caller indicates that this is not a failure, but may mean that there could be performance gains if more memory were available.\n",
      "2023-05-17 14:26:50.367507: W tensorflow/core/common_runtime/bfc_allocator.cc:275] Allocator (GPU_0_bfc) ran out of memory trying to allocate 2.30GiB with freed_by_count=0. The caller indicates that this is not a failure, but may mean that there could be performance gains if more memory were available.\n",
      "2023-05-17 14:26:50.419379: W tensorflow/core/common_runtime/bfc_allocator.cc:275] Allocator (GPU_0_bfc) ran out of memory trying to allocate 2.41GiB with freed_by_count=0. The caller indicates that this is not a failure, but may mean that there could be performance gains if more memory were available.\n",
      "2023-05-17 14:26:50.419420: W tensorflow/core/common_runtime/bfc_allocator.cc:275] Allocator (GPU_0_bfc) ran out of memory trying to allocate 2.41GiB with freed_by_count=0. The caller indicates that this is not a failure, but may mean that there could be performance gains if more memory were available.\n"
     ]
    },
    {
     "name": "stdout",
     "output_type": "stream",
     "text": [
      "66/66 [==============================] - ETA: 0s - loss: 1.1476 - accuracy: 0.5374"
     ]
    },
    {
     "name": "stderr",
     "output_type": "stream",
     "text": [
      "2023-05-17 14:27:44.109396: I tensorflow/core/kernels/data/shuffle_dataset_op.cc:390] Filling up shuffle buffer (this may take a while): 1 of 2000\n",
      "2023-05-17 14:27:44.506441: I tensorflow/core/kernels/data/shuffle_dataset_op.cc:390] Filling up shuffle buffer (this may take a while): 2 of 2000\n",
      "2023-05-17 14:27:45.100134: I tensorflow/core/kernels/data/shuffle_dataset_op.cc:390] Filling up shuffle buffer (this may take a while): 3 of 2000\n",
      "2023-05-17 14:27:45.817967: I tensorflow/core/kernels/data/shuffle_dataset_op.cc:390] Filling up shuffle buffer (this may take a while): 4 of 2000\n",
      "2023-05-17 14:27:47.085242: I tensorflow/core/kernels/data/shuffle_dataset_op.cc:415] Shuffle buffer filled.\n",
      "2023-05-17 14:27:48.532987: W tensorflow/core/common_runtime/bfc_allocator.cc:275] Allocator (GPU_0_bfc) ran out of memory trying to allocate 2.30GiB with freed_by_count=0. The caller indicates that this is not a failure, but may mean that there could be performance gains if more memory were available.\n",
      "2023-05-17 14:27:48.534217: W tensorflow/core/common_runtime/bfc_allocator.cc:275] Allocator (GPU_0_bfc) ran out of memory trying to allocate 2.30GiB with freed_by_count=0. The caller indicates that this is not a failure, but may mean that there could be performance gains if more memory were available.\n",
      "2023-05-17 14:27:48.593980: W tensorflow/core/common_runtime/bfc_allocator.cc:275] Allocator (GPU_0_bfc) ran out of memory trying to allocate 2.40GiB with freed_by_count=0. The caller indicates that this is not a failure, but may mean that there could be performance gains if more memory were available.\n",
      "2023-05-17 14:27:48.594028: W tensorflow/core/common_runtime/bfc_allocator.cc:275] Allocator (GPU_0_bfc) ran out of memory trying to allocate 2.40GiB with freed_by_count=0. The caller indicates that this is not a failure, but may mean that there could be performance gains if more memory were available.\n"
     ]
    },
    {
     "name": "stdout",
     "output_type": "stream",
     "text": [
      "\n",
      "Epoch 1: val_loss improved from inf to 0.58648, saving model to finalproject_weights.h5\n",
      "66/66 [==============================] - 106s 945ms/step - loss: 1.1476 - accuracy: 0.5374 - val_loss: 0.5865 - val_accuracy: 0.7578\n",
      "Epoch 2/50\n",
      "66/66 [==============================] - ETA: 0s - loss: 0.6161 - accuracy: 0.7519\n",
      "Epoch 2: val_loss improved from 0.58648 to 0.44874, saving model to finalproject_weights.h5\n",
      "66/66 [==============================] - 17s 254ms/step - loss: 0.6161 - accuracy: 0.7519 - val_loss: 0.4487 - val_accuracy: 0.8049\n",
      "Epoch 3/50\n",
      "66/66 [==============================] - ETA: 0s - loss: 0.4845 - accuracy: 0.8073\n",
      "Epoch 3: val_loss improved from 0.44874 to 0.34282, saving model to finalproject_weights.h5\n",
      "66/66 [==============================] - 17s 254ms/step - loss: 0.4845 - accuracy: 0.8073 - val_loss: 0.3428 - val_accuracy: 0.8565\n",
      "Epoch 4/50\n",
      "66/66 [==============================] - ETA: 0s - loss: 0.4033 - accuracy: 0.8352\n",
      "Epoch 4: val_loss improved from 0.34282 to 0.30317, saving model to finalproject_weights.h5\n",
      "66/66 [==============================] - 17s 256ms/step - loss: 0.4033 - accuracy: 0.8352 - val_loss: 0.3032 - val_accuracy: 0.8744\n",
      "Epoch 5/50\n",
      "66/66 [==============================] - ETA: 0s - loss: 0.3799 - accuracy: 0.8475\n",
      "Epoch 5: val_loss improved from 0.30317 to 0.28518, saving model to finalproject_weights.h5\n",
      "66/66 [==============================] - 17s 258ms/step - loss: 0.3799 - accuracy: 0.8475 - val_loss: 0.2852 - val_accuracy: 0.8767\n",
      "Epoch 6/50\n",
      "66/66 [==============================] - ETA: 0s - loss: 0.3260 - accuracy: 0.8745\n",
      "Epoch 6: val_loss improved from 0.28518 to 0.25713, saving model to finalproject_weights.h5\n",
      "66/66 [==============================] - 17s 260ms/step - loss: 0.3260 - accuracy: 0.8745 - val_loss: 0.2571 - val_accuracy: 0.8991\n",
      "Epoch 7/50\n",
      "66/66 [==============================] - ETA: 0s - loss: 0.2946 - accuracy: 0.8835\n",
      "Epoch 7: val_loss improved from 0.25713 to 0.24561, saving model to finalproject_weights.h5\n",
      "66/66 [==============================] - 17s 257ms/step - loss: 0.2946 - accuracy: 0.8835 - val_loss: 0.2456 - val_accuracy: 0.9013\n",
      "Epoch 8/50\n",
      "66/66 [==============================] - ETA: 0s - loss: 0.3041 - accuracy: 0.8745\n",
      "Epoch 8: val_loss improved from 0.24561 to 0.21741, saving model to finalproject_weights.h5\n",
      "66/66 [==============================] - 17s 258ms/step - loss: 0.3041 - accuracy: 0.8745 - val_loss: 0.2174 - val_accuracy: 0.9193\n",
      "Epoch 9/50\n",
      "66/66 [==============================] - ETA: 0s - loss: 0.2748 - accuracy: 0.8949\n",
      "Epoch 9: val_loss improved from 0.21741 to 0.20960, saving model to finalproject_weights.h5\n",
      "66/66 [==============================] - 17s 258ms/step - loss: 0.2748 - accuracy: 0.8949 - val_loss: 0.2096 - val_accuracy: 0.9260\n",
      "Epoch 10/50\n",
      "66/66 [==============================] - ETA: 0s - loss: 0.2486 - accuracy: 0.8982\n",
      "Epoch 10: val_loss improved from 0.20960 to 0.19757, saving model to finalproject_weights.h5\n",
      "66/66 [==============================] - 17s 258ms/step - loss: 0.2486 - accuracy: 0.8982 - val_loss: 0.1976 - val_accuracy: 0.9260\n",
      "Epoch 11/50\n",
      "66/66 [==============================] - ETA: 0s - loss: 0.2578 - accuracy: 0.9058\n",
      "Epoch 11: val_loss did not improve from 0.19757\n",
      "66/66 [==============================] - 16s 247ms/step - loss: 0.2578 - accuracy: 0.9058 - val_loss: 0.1980 - val_accuracy: 0.9193\n",
      "Epoch 12/50\n",
      "66/66 [==============================] - ETA: 0s - loss: 0.2335 - accuracy: 0.9124\n",
      "Epoch 12: val_loss improved from 0.19757 to 0.18876, saving model to finalproject_weights.h5\n",
      "66/66 [==============================] - 17s 258ms/step - loss: 0.2335 - accuracy: 0.9124 - val_loss: 0.1888 - val_accuracy: 0.9417\n",
      "Epoch 13/50\n",
      "66/66 [==============================] - ETA: 0s - loss: 0.2251 - accuracy: 0.9148\n",
      "Epoch 13: val_loss improved from 0.18876 to 0.18514, saving model to finalproject_weights.h5\n",
      "66/66 [==============================] - 17s 263ms/step - loss: 0.2251 - accuracy: 0.9148 - val_loss: 0.1851 - val_accuracy: 0.9395\n",
      "Epoch 14/50\n",
      "66/66 [==============================] - ETA: 0s - loss: 0.2008 - accuracy: 0.9238\n",
      "Epoch 14: val_loss improved from 0.18514 to 0.17631, saving model to finalproject_weights.h5\n",
      "66/66 [==============================] - 17s 258ms/step - loss: 0.2008 - accuracy: 0.9238 - val_loss: 0.1763 - val_accuracy: 0.9350\n",
      "Epoch 15/50\n",
      "66/66 [==============================] - ETA: 0s - loss: 0.2021 - accuracy: 0.9205\n",
      "Epoch 15: val_loss did not improve from 0.17631\n",
      "66/66 [==============================] - 16s 246ms/step - loss: 0.2021 - accuracy: 0.9205 - val_loss: 0.2114 - val_accuracy: 0.9305\n",
      "Epoch 16/50\n",
      "66/66 [==============================] - ETA: 0s - loss: 0.2006 - accuracy: 0.9233\n",
      "Epoch 16: val_loss improved from 0.17631 to 0.16364, saving model to finalproject_weights.h5\n",
      "66/66 [==============================] - 17s 258ms/step - loss: 0.2006 - accuracy: 0.9233 - val_loss: 0.1636 - val_accuracy: 0.9462\n",
      "Epoch 17/50\n",
      "66/66 [==============================] - ETA: 0s - loss: 0.1907 - accuracy: 0.9209\n",
      "Epoch 17: val_loss improved from 0.16364 to 0.15757, saving model to finalproject_weights.h5\n",
      "66/66 [==============================] - 17s 257ms/step - loss: 0.1907 - accuracy: 0.9209 - val_loss: 0.1576 - val_accuracy: 0.9395\n",
      "Epoch 18/50\n",
      "66/66 [==============================] - ETA: 0s - loss: 0.1766 - accuracy: 0.9309\n",
      "Epoch 18: val_loss did not improve from 0.15757\n",
      "66/66 [==============================] - 16s 248ms/step - loss: 0.1766 - accuracy: 0.9309 - val_loss: 0.1585 - val_accuracy: 0.9484\n",
      "Epoch 19/50\n",
      "66/66 [==============================] - ETA: 0s - loss: 0.1679 - accuracy: 0.9299\n",
      "Epoch 19: val_loss did not improve from 0.15757\n",
      "66/66 [==============================] - 16s 246ms/step - loss: 0.1679 - accuracy: 0.9299 - val_loss: 0.1645 - val_accuracy: 0.9484\n",
      "Epoch 20/50\n",
      "66/66 [==============================] - ETA: 0s - loss: 0.1671 - accuracy: 0.9356\n",
      "Epoch 20: val_loss did not improve from 0.15757\n",
      "66/66 [==============================] - 16s 250ms/step - loss: 0.1671 - accuracy: 0.9356 - val_loss: 0.1650 - val_accuracy: 0.9507\n",
      "Epoch 21/50\n",
      "66/66 [==============================] - ETA: 0s - loss: 0.1611 - accuracy: 0.9375\n",
      "Epoch 21: val_loss improved from 0.15757 to 0.14752, saving model to finalproject_weights.h5\n",
      "66/66 [==============================] - 17s 259ms/step - loss: 0.1611 - accuracy: 0.9375 - val_loss: 0.1475 - val_accuracy: 0.9552\n",
      "Epoch 22/50\n",
      "66/66 [==============================] - ETA: 0s - loss: 0.1522 - accuracy: 0.9413\n",
      "Epoch 22: val_loss did not improve from 0.14752\n",
      "66/66 [==============================] - 16s 247ms/step - loss: 0.1522 - accuracy: 0.9413 - val_loss: 0.1660 - val_accuracy: 0.9395\n",
      "Epoch 23/50\n",
      "66/66 [==============================] - ETA: 0s - loss: 0.1536 - accuracy: 0.9380\n",
      "Epoch 23: val_loss improved from 0.14752 to 0.14209, saving model to finalproject_weights.h5\n",
      "66/66 [==============================] - 17s 259ms/step - loss: 0.1536 - accuracy: 0.9380 - val_loss: 0.1421 - val_accuracy: 0.9462\n",
      "Epoch 24/50\n",
      "66/66 [==============================] - ETA: 0s - loss: 0.1451 - accuracy: 0.9479\n",
      "Epoch 24: val_loss did not improve from 0.14209\n",
      "66/66 [==============================] - 16s 247ms/step - loss: 0.1451 - accuracy: 0.9479 - val_loss: 0.1535 - val_accuracy: 0.9417\n",
      "Epoch 25/50\n",
      "66/66 [==============================] - ETA: 0s - loss: 0.1318 - accuracy: 0.9512\n",
      "Epoch 25: val_loss improved from 0.14209 to 0.14144, saving model to finalproject_weights.h5\n",
      "66/66 [==============================] - 17s 258ms/step - loss: 0.1318 - accuracy: 0.9512 - val_loss: 0.1414 - val_accuracy: 0.9619\n",
      "Epoch 26/50\n",
      "66/66 [==============================] - ETA: 0s - loss: 0.1358 - accuracy: 0.9489\n",
      "Epoch 26: val_loss improved from 0.14144 to 0.13264, saving model to finalproject_weights.h5\n",
      "66/66 [==============================] - 17s 257ms/step - loss: 0.1358 - accuracy: 0.9489 - val_loss: 0.1326 - val_accuracy: 0.9529\n",
      "Epoch 27/50\n",
      "66/66 [==============================] - ETA: 0s - loss: 0.1324 - accuracy: 0.9427\n",
      "Epoch 27: val_loss did not improve from 0.13264\n",
      "66/66 [==============================] - 16s 247ms/step - loss: 0.1324 - accuracy: 0.9427 - val_loss: 0.1432 - val_accuracy: 0.9507\n",
      "Epoch 28/50\n",
      "66/66 [==============================] - ETA: 0s - loss: 0.1234 - accuracy: 0.9564\n",
      "Epoch 28: val_loss did not improve from 0.13264\n",
      "66/66 [==============================] - 16s 247ms/step - loss: 0.1234 - accuracy: 0.9564 - val_loss: 0.1570 - val_accuracy: 0.9484\n",
      "Epoch 29/50\n",
      "66/66 [==============================] - ETA: 0s - loss: 0.1259 - accuracy: 0.9498\n",
      "Epoch 29: val_loss did not improve from 0.13264\n",
      "66/66 [==============================] - 16s 247ms/step - loss: 0.1259 - accuracy: 0.9498 - val_loss: 0.1519 - val_accuracy: 0.9552\n",
      "Epoch 30/50\n",
      "66/66 [==============================] - ETA: 0s - loss: 0.1195 - accuracy: 0.9484\n",
      "Epoch 30: val_loss did not improve from 0.13264\n",
      "66/66 [==============================] - 16s 247ms/step - loss: 0.1195 - accuracy: 0.9484 - val_loss: 0.1397 - val_accuracy: 0.9596\n",
      "Epoch 31/50\n",
      "66/66 [==============================] - ETA: 0s - loss: 0.1104 - accuracy: 0.9545\n",
      "Epoch 31: val_loss did not improve from 0.13264\n",
      "66/66 [==============================] - 16s 246ms/step - loss: 0.1104 - accuracy: 0.9545 - val_loss: 0.1476 - val_accuracy: 0.9596\n",
      "Epoch 32/50\n",
      "66/66 [==============================] - ETA: 0s - loss: 0.1046 - accuracy: 0.9593\n",
      "Epoch 32: val_loss did not improve from 0.13264\n",
      "66/66 [==============================] - 16s 247ms/step - loss: 0.1046 - accuracy: 0.9593 - val_loss: 0.1372 - val_accuracy: 0.9574\n",
      "Epoch 33/50\n",
      "66/66 [==============================] - ETA: 0s - loss: 0.1129 - accuracy: 0.9574\n",
      "Epoch 33: val_loss did not improve from 0.13264\n",
      "66/66 [==============================] - 16s 246ms/step - loss: 0.1129 - accuracy: 0.9574 - val_loss: 0.1460 - val_accuracy: 0.9507\n",
      "Epoch 34/50\n",
      "66/66 [==============================] - ETA: 0s - loss: 0.0956 - accuracy: 0.9631\n",
      "Epoch 34: val_loss did not improve from 0.13264\n",
      "66/66 [==============================] - 16s 247ms/step - loss: 0.0956 - accuracy: 0.9631 - val_loss: 0.1387 - val_accuracy: 0.9596\n",
      "Epoch 35/50\n",
      "66/66 [==============================] - ETA: 0s - loss: 0.1075 - accuracy: 0.9593\n",
      "Epoch 35: val_loss did not improve from 0.13264\n",
      "66/66 [==============================] - 16s 247ms/step - loss: 0.1075 - accuracy: 0.9593 - val_loss: 0.1467 - val_accuracy: 0.9529\n",
      "Epoch 36/50\n",
      "66/66 [==============================] - ETA: 0s - loss: 0.0836 - accuracy: 0.9688\n",
      "Epoch 36: val_loss did not improve from 0.13264\n",
      "66/66 [==============================] - 16s 247ms/step - loss: 0.0836 - accuracy: 0.9688 - val_loss: 0.1399 - val_accuracy: 0.9596\n",
      "Epoch 36: early stopping\n"
     ]
    }
   ],
   "source": [
    "history = model.fit(\n",
    "    train_ds, \n",
    "    epochs = 50,\n",
    "    validation_data=val_ds,\n",
    "    batch_size=BATCH_SIZE,\n",
    "    shuffle=True,\n",
    "    callbacks=[early_stopping, checkpointer]\n",
    ")"
   ]
  },
  {
   "cell_type": "markdown",
   "metadata": {},
   "source": [
    "## Model Evaluation"
   ]
  },
  {
   "cell_type": "code",
   "execution_count": 17,
   "metadata": {},
   "outputs": [
    {
     "data": {
      "image/png": "[encoded data removed]",
      "text/plain": [
       "<Figure size 432x288 with 1 Axes>"
      ]
     },
     "metadata": {
      "needs_background": "light"
     },
     "output_type": "display_data"
    }
   ],
   "source": [
    "# The is how training loss and validation loss varied during training\n",
    "plt.plot(history.history['loss'])\n",
    "plt.plot(history.history['val_loss'])\n",
    "plt.title('model loss')\n",
    "plt.ylabel('loss')\n",
    "plt.ylim(0, 1)\n",
    "plt.xlabel('epoch')\n",
    "plt.legend(['train', 'val'], loc='upper right')\n",
    "plt.show()"
   ]
  },
  {
   "cell_type": "code",
   "execution_count": 18,
   "metadata": {},
   "outputs": [
    {
     "data": {
      "image/png": "[encoded data removed]",
      "text/plain": [
       "<Figure size 432x288 with 1 Axes>"
      ]
     },
     "metadata": {
      "needs_background": "light"
     },
     "output_type": "display_data"
    }
   ],
   "source": [
    "plt.plot(history.history['accuracy'])\n",
    "plt.plot(history.history['val_accuracy'])\n",
    "plt.title('model accuracy')\n",
    "plt.ylabel('accuracy')\n",
    "plt.ylim(0, 1)\n",
    "plt.xlabel('epoch')\n",
    "plt.legend(['train', 'val'], loc='upper left')\n",
    "plt.show()"
   ]
  },
  {
   "cell_type": "code",
   "execution_count": 19,
   "metadata": {},
   "outputs": [],
   "source": [
    "# Save the model architecture\n",
    "model_json = model.to_json()\n",
    "with open(\"finalproject_model.json\", \"w\") as json_file:\n",
    "    json_file.write(model_json)"
   ]
  },
  {
   "cell_type": "markdown",
   "metadata": {},
   "source": [
    "## Evaluating the Saved Model Performance"
   ]
  },
  {
   "cell_type": "code",
   "execution_count": 6,
   "metadata": {},
   "outputs": [],
   "source": [
    "# Load the pretrained model (best saved one)\n",
    "with open('finalproject_model.json', 'r') as json_file:\n",
    "    json_saved_model = json_file.read()\n",
    "\n",
    "# Load the model\n",
    "model = tf.keras.models.model_from_json(json_saved_model)\n",
    "model.load_weights('finalproject_weights.h5')\n",
    "model.compile(loss='sparse_categorical_crossentropy',\n",
    "              optimizer='Adam', metrics=[\"accuracy\"])\n"
   ]
  },
  {
   "cell_type": "code",
   "execution_count": 7,
   "metadata": {},
   "outputs": [
    {
     "name": "stderr",
     "output_type": "stream",
     "text": [
      "2023-05-19 10:51:52.117572: I tensorflow/core/kernels/data/shuffle_dataset_op.cc:390] Filling up shuffle buffer (this may take a while): 1 of 2000\n",
      "2023-05-19 10:51:52.474769: I tensorflow/core/kernels/data/shuffle_dataset_op.cc:390] Filling up shuffle buffer (this may take a while): 2 of 2000\n",
      "2023-05-19 10:51:54.716736: I tensorflow/core/kernels/data/shuffle_dataset_op.cc:415] Shuffle buffer filled.\n",
      "2023-05-19 10:51:55.730599: I tensorflow/stream_executor/cuda/cuda_dnn.cc:368] Loaded cuDNN version 8204\n",
      "2023-05-19 10:51:56.835250: I tensorflow/core/platform/default/subprocess.cc:304] Start cannot spawn child process: No such file or directory\n"
     ]
    },
    {
     "name": "stdout",
     "output_type": "stream",
     "text": [
      "1/8 [==>...........................] - ETA: 3:52 - loss: 0.1117 - accuracy: 0.9375"
     ]
    },
    {
     "name": "stderr",
     "output_type": "stream",
     "text": [
      "2023-05-19 10:51:59.568205: W tensorflow/core/common_runtime/bfc_allocator.cc:275] Allocator (GPU_0_bfc) ran out of memory trying to allocate 2.30GiB with freed_by_count=0. The caller indicates that this is not a failure, but may mean that there could be performance gains if more memory were available.\n",
      "2023-05-19 10:51:59.568260: W tensorflow/core/common_runtime/bfc_allocator.cc:275] Allocator (GPU_0_bfc) ran out of memory trying to allocate 2.30GiB with freed_by_count=0. The caller indicates that this is not a failure, but may mean that there could be performance gains if more memory were available.\n",
      "2023-05-19 10:51:59.627238: W tensorflow/core/common_runtime/bfc_allocator.cc:275] Allocator (GPU_0_bfc) ran out of memory trying to allocate 2.41GiB with freed_by_count=0. The caller indicates that this is not a failure, but may mean that there could be performance gains if more memory were available.\n",
      "2023-05-19 10:51:59.627271: W tensorflow/core/common_runtime/bfc_allocator.cc:275] Allocator (GPU_0_bfc) ran out of memory trying to allocate 2.41GiB with freed_by_count=0. The caller indicates that this is not a failure, but may mean that there could be performance gains if more memory were available.\n"
     ]
    },
    {
     "name": "stdout",
     "output_type": "stream",
     "text": [
      "8/8 [==============================] - 35s 221ms/step - loss: 0.1081 - accuracy: 0.9531\n"
     ]
    }
   ],
   "source": [
    "scores = model.evaluate(test_ds)"
   ]
  },
  {
   "cell_type": "code",
   "execution_count": 8,
   "metadata": {},
   "outputs": [],
   "source": [
    "predict = []\n",
    "y_test = np.array([])\n",
    "for images, labels in test_ds:\n",
    "    y_test = np.concatenate((y_test, labels.numpy()), axis=0).astype(int)\n",
    "    predictions = model.predict(images)\n",
    "    predict.extend(np.argmax(predictions, axis=1))\n",
    "predict = np.asarray(predict)"
   ]
  },
  {
   "cell_type": "code",
   "execution_count": 13,
   "metadata": {},
   "outputs": [
    {
     "name": "stdout",
     "output_type": "stream",
     "text": [
      "[[0.000 0.976 0.000 0.024]\n",
      " [0.000 0.000 0.000 1.000]\n",
      " [0.000 0.017 0.983 0.000]\n",
      " [0.000 0.060 0.940 0.000]\n",
      " [0.962 0.037 0.000 0.000]\n",
      " [0.000 0.001 0.000 0.999]\n",
      " [0.001 0.872 0.118 0.009]\n",
      " [1.000 0.000 0.000 0.000]\n",
      " [0.997 0.000 0.002 0.001]\n",
      " [1.000 0.000 0.000 0.000]\n",
      " [0.001 0.998 0.001 0.000]\n",
      " [0.993 0.000 0.007 0.000]\n",
      " [0.000 0.000 0.000 1.000]\n",
      " [1.000 0.000 0.000 0.000]\n",
      " [0.005 0.001 0.995 0.000]\n",
      " [0.000 1.000 0.000 0.000]\n",
      " [1.000 0.000 0.000 0.000]\n",
      " [0.000 1.000 0.000 0.000]\n",
      " [1.000 0.000 0.000 0.000]\n",
      " [0.000 0.106 0.004 0.890]\n",
      " [0.000 0.830 0.169 0.000]\n",
      " [0.000 0.997 0.001 0.002]\n",
      " [0.000 0.000 0.000 1.000]\n",
      " [0.996 0.001 0.002 0.001]\n",
      " [0.000 0.209 0.790 0.000]\n",
      " [0.000 0.780 0.000 0.219]\n",
      " [1.000 0.000 0.000 0.000]\n",
      " [1.000 0.000 0.000 0.000]\n",
      " [0.000 0.029 0.000 0.970]\n",
      " [0.000 0.066 0.000 0.934]\n",
      " [0.000 0.906 0.094 0.000]\n",
      " [0.000 0.000 0.000 1.000]]\n",
      "tf.Tensor(\n",
      "[[[19.932 19.932 19.932]\n",
      "  [20.105 20.105 20.105]\n",
      "  [21.000 21.000 21.000]\n",
      "  ...\n",
      "  [29.105 29.105 29.105]\n",
      "  [20.238 20.238 20.238]\n",
      "  [0.000 0.000 0.000]]\n",
      "\n",
      " [[21.645 21.645 21.645]\n",
      "  [21.638 21.638 21.638]\n",
      "  [20.000 20.000 20.000]\n",
      "  ...\n",
      "  [28.930 28.930 28.930]\n",
      "  [14.561 14.561 14.561]\n",
      "  [0.000 0.000 0.000]]\n",
      "\n",
      " [[21.527 21.527 21.527]\n",
      "  [20.934 20.934 20.934]\n",
      "  [20.000 20.000 20.000]\n",
      "  ...\n",
      "  [27.305 27.305 27.305]\n",
      "  [9.813 9.813 9.813]\n",
      "  [0.000 0.000 0.000]]\n",
      "\n",
      " ...\n",
      "\n",
      " [[12.355 12.355 12.355]\n",
      "  [12.406 12.406 12.406]\n",
      "  [11.777 11.777 11.777]\n",
      "  ...\n",
      "  [15.695 15.695 15.695]\n",
      "  [14.914 14.914 14.914]\n",
      "  [15.238 15.238 15.238]]\n",
      "\n",
      " [[13.645 13.645 13.645]\n",
      "  [11.000 11.000 11.000]\n",
      "  [10.223 10.223 10.223]\n",
      "  ...\n",
      "  [15.000 15.000 15.000]\n",
      "  [14.229 14.229 14.229]\n",
      "  [14.204 14.204 14.204]]\n",
      "\n",
      " [[13.366 13.366 13.366]\n",
      "  [11.039 11.039 11.039]\n",
      "  [11.578 11.578 11.578]\n",
      "  ...\n",
      "  [15.316 15.316 15.316]\n",
      "  [17.131 17.131 17.131]\n",
      "  [16.105 16.105 16.105]]], shape=(256, 256, 3), dtype=float32)\n"
     ]
    }
   ],
   "source": [
    "np.set_printoptions(formatter={'float': lambda x: \"{0:0.3f}\".format(x)})\n",
    "for images, labels in test_ds:\n",
    "    predictions = model.predict(images)\n",
    "    print(predictions)\n",
    "    # print(images)\n",
    "    for image in images:\n",
    "        print(image)\n",
    "        break\n",
    "    break"
   ]
  },
  {
   "cell_type": "code",
   "execution_count": 13,
   "metadata": {},
   "outputs": [
    {
     "name": "stdout",
     "output_type": "stream",
     "text": [
      "Accuracy: 0.953125\n"
     ]
    }
   ],
   "source": [
    "# Obtain the accuracy of the model\n",
    "from sklearn.metrics import accuracy_score\n",
    "\n",
    "accuracy = accuracy_score(y_test, predict)\n",
    "print(f\"Accuracy: {accuracy}\")"
   ]
  },
  {
   "cell_type": "code",
   "execution_count": 14,
   "metadata": {},
   "outputs": [
    {
     "data": {
      "text/plain": [
       "<AxesSubplot:>"
      ]
     },
     "execution_count": 14,
     "metadata": {},
     "output_type": "execute_result"
    },
    {
     "data": {
      "image/png": "[encoded data removed]",
      "text/plain": [
       "<Figure size 504x504 with 2 Axes>"
      ]
     },
     "metadata": {
      "needs_background": "light"
     },
     "output_type": "display_data"
    }
   ],
   "source": [
    "# plot the confusion matrix\n",
    "from sklearn.metrics import confusion_matrix\n",
    "\n",
    "cm = confusion_matrix(y_test, predict)\n",
    "plt.figure(figsize = (7,7))\n",
    "sns.heatmap(cm, annot=True, cmap='Blues')"
   ]
  },
  {
   "cell_type": "code",
   "execution_count": 15,
   "metadata": {},
   "outputs": [
    {
     "name": "stdout",
     "output_type": "stream",
     "text": [
      "              precision    recall  f1-score   support\n",
      "\n",
      "           0       0.98      1.00      0.99        51\n",
      "           1       0.93      0.96      0.95       100\n",
      "           2       0.96      0.92      0.94        48\n",
      "           3       0.96      0.93      0.95        57\n",
      "\n",
      "    accuracy                           0.95       256\n",
      "   macro avg       0.96      0.95      0.95       256\n",
      "weighted avg       0.95      0.95      0.95       256\n",
      "\n"
     ]
    }
   ],
   "source": [
    "from sklearn.metrics import classification_report\n",
    "\n",
    "report = classification_report(y_test, predict)\n",
    "print(report)"
   ]
  },
  {
   "cell_type": "code",
   "execution_count": null,
   "metadata": {},
   "outputs": [],
   "source": []
  }
 ],
 "metadata": {
  "kernelspec": {
   "display_name": "Python 3 (ipykernel)",
   "language": "python",
   "name": "python3"
  },
  "language_info": {
   "codemirror_mode": {
    "name": "ipython",
    "version": 3
   },
   "file_extension": ".py",
   "mimetype": "text/x-python",
   "name": "python",
   "nbconvert_exporter": "python",
   "pygments_lexer": "ipython3",
   "version": "3.8.10"
  }
 },
 "nbformat": 4,
 "nbformat_minor": 4
}
