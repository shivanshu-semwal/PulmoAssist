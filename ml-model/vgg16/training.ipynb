{
 "cells": [
  {
   "cell_type": "code",
   "execution_count": 1,
   "metadata": {},
   "outputs": [],
   "source": [
    "import numpy as np\n",
    "import seaborn as sns\n",
    "import matplotlib.pyplot as plt\n",
    "import os\n",
    "import tensorflow as tf\n",
    "from tensorflow.keras import layers, optimizers\n",
    "from tensorflow.keras.layers import *\n",
    "from tensorflow.keras.preprocessing.image import ImageDataGenerator\n",
    "from tensorflow.keras.models import Model, load_model\n",
    "from tensorflow.keras.applications.vgg16 import VGG16\n",
    "from tensorflow.keras.callbacks import EarlyStopping, ModelCheckpoint"
   ]
  },
  {
   "cell_type": "markdown",
   "metadata": {},
   "source": [
    "## Loading Images from the Disk"
   ]
  },
  {
   "cell_type": "code",
   "execution_count": 2,
   "metadata": {},
   "outputs": [],
   "source": [
    "IMAGE_SIZE = 256\n",
    "BATCH_SIZE = 32\n",
    "CHANNELS = 3"
   ]
  },
  {
   "cell_type": "code",
   "execution_count": 3,
   "metadata": {},
   "outputs": [
    {
     "name": "stdout",
     "output_type": "stream",
     "text": [
      "Found 2814 files belonging to 4 classes.\n"
     ]
    },
    {
     "name": "stderr",
     "output_type": "stream",
     "text": [
      "2023-05-18 17:21:33.849724: I tensorflow/stream_executor/cuda/cuda_gpu_executor.cc:936] successful NUMA node read from SysFS had negative value (-1), but there must be at least one NUMA node, so returning NUMA node zero\n",
      "2023-05-18 17:21:33.916341: I tensorflow/stream_executor/cuda/cuda_gpu_executor.cc:936] successful NUMA node read from SysFS had negative value (-1), but there must be at least one NUMA node, so returning NUMA node zero\n",
      "2023-05-18 17:21:33.916626: I tensorflow/stream_executor/cuda/cuda_gpu_executor.cc:936] successful NUMA node read from SysFS had negative value (-1), but there must be at least one NUMA node, so returning NUMA node zero\n",
      "2023-05-18 17:21:33.917447: I tensorflow/core/platform/cpu_feature_guard.cc:151] This TensorFlow binary is optimized with oneAPI Deep Neural Network Library (oneDNN) to use the following CPU instructions in performance-critical operations:  AVX2 FMA\n",
      "To enable them in other operations, rebuild TensorFlow with the appropriate compiler flags.\n",
      "2023-05-18 17:21:33.918018: I tensorflow/stream_executor/cuda/cuda_gpu_executor.cc:936] successful NUMA node read from SysFS had negative value (-1), but there must be at least one NUMA node, so returning NUMA node zero\n",
      "2023-05-18 17:21:33.918439: I tensorflow/stream_executor/cuda/cuda_gpu_executor.cc:936] successful NUMA node read from SysFS had negative value (-1), but there must be at least one NUMA node, so returning NUMA node zero\n",
      "2023-05-18 17:21:33.918785: I tensorflow/stream_executor/cuda/cuda_gpu_executor.cc:936] successful NUMA node read from SysFS had negative value (-1), but there must be at least one NUMA node, so returning NUMA node zero\n",
      "2023-05-18 17:21:34.637108: I tensorflow/stream_executor/cuda/cuda_gpu_executor.cc:936] successful NUMA node read from SysFS had negative value (-1), but there must be at least one NUMA node, so returning NUMA node zero\n",
      "2023-05-18 17:21:34.637410: I tensorflow/stream_executor/cuda/cuda_gpu_executor.cc:936] successful NUMA node read from SysFS had negative value (-1), but there must be at least one NUMA node, so returning NUMA node zero\n",
      "2023-05-18 17:21:34.637666: I tensorflow/stream_executor/cuda/cuda_gpu_executor.cc:936] successful NUMA node read from SysFS had negative value (-1), but there must be at least one NUMA node, so returning NUMA node zero\n",
      "2023-05-18 17:21:34.637877: I tensorflow/core/common_runtime/gpu/gpu_device.cc:1525] Created device /job:localhost/replica:0/task:0/device:GPU:0 with 2223 MB memory:  -> device: 0, name: NVIDIA GeForce GTX 1650, pci bus id: 0000:01:00.0, compute capability: 7.5\n"
     ]
    }
   ],
   "source": [
    "dataset = tf.keras.preprocessing.image_dataset_from_directory(\n",
    "    \"../datasets-4\",\n",
    "    seed=123,\n",
    "    shuffle=True,\n",
    "    image_size=(IMAGE_SIZE, IMAGE_SIZE),\n",
    "    batch_size=BATCH_SIZE\n",
    ")"
   ]
  },
  {
   "cell_type": "markdown",
   "metadata": {},
   "source": [
    "## Splitting the Dataset\n",
    "\n",
    "We will take -\n",
    "- 80% data for training our model\n",
    "- 10% data for validation purpose\n",
    "- 10% data for test purpose"
   ]
  },
  {
   "cell_type": "code",
   "execution_count": 4,
   "metadata": {},
   "outputs": [
    {
     "name": "stdout",
     "output_type": "stream",
     "text": [
      "\n",
      "    Total Batches: 88,\n",
      "    Training Batches: 66,\n",
      "    Testing Batches: 8,\n",
      "    Validation Batches: 14\n",
      "\n"
     ]
    }
   ],
   "source": [
    "total_batches = len(dataset)\n",
    "train_size = int(0.75 * total_batches)\n",
    "test_size = int(0.10 * total_batches)\n",
    "val_size = total_batches - train_size - test_size\n",
    "\n",
    "print(f\"\"\"\n",
    "    Total Batches: {total_batches},\n",
    "    Training Batches: {train_size},\n",
    "    Testing Batches: {test_size},\n",
    "    Validation Batches: {val_size}\n",
    "\"\"\")\n",
    "\n",
    "train_ds = dataset.take(train_size) # used for training data\n",
    "test_ds = dataset.skip(train_size).take(test_size) # final evaluation will be done on this model\n",
    "val_ds = dataset.skip(train_size + test_size).take(val_size) # used to tune the model"
   ]
  },
  {
   "cell_type": "markdown",
   "metadata": {},
   "source": [
    "## Cache, Shuffle, and Prefetch the Dataset"
   ]
  },
  {
   "cell_type": "code",
   "execution_count": 5,
   "metadata": {},
   "outputs": [],
   "source": [
    "train_ds = train_ds.cache().shuffle(2000).prefetch(buffer_size=tf.data.AUTOTUNE)\n",
    "val_ds = val_ds.cache().shuffle(2000).prefetch(buffer_size=tf.data.AUTOTUNE)\n",
    "test_ds = test_ds.cache().shuffle(2000).prefetch(buffer_size=tf.data.AUTOTUNE)"
   ]
  },
  {
   "cell_type": "markdown",
   "metadata": {},
   "source": [
    "## Image Augmentation"
   ]
  },
  {
   "cell_type": "code",
   "execution_count": 6,
   "metadata": {},
   "outputs": [],
   "source": [
    "data_augmentation = tf.keras.Sequential([\n",
    "    layers.experimental.preprocessing.RandomFlip(\"horizontal_and_vertical\"),\n",
    "    layers.experimental.preprocessing.RandomRotation(0.2),\n",
    "])\n",
    "\n",
    "# Applying Augmentation on Training Data\n",
    "train_ds = train_ds.map(\n",
    "    lambda x, y: (data_augmentation(x, training=True), y)\n",
    ").prefetch(buffer_size=tf.data.AUTOTUNE)"
   ]
  },
  {
   "cell_type": "markdown",
   "metadata": {},
   "source": [
    "## Designing and Training the Model"
   ]
  },
  {
   "cell_type": "code",
   "execution_count": 7,
   "metadata": {},
   "outputs": [],
   "source": [
    "resize_and_rescale = tf.keras.Sequential([\n",
    "    tf.keras.layers.experimental.preprocessing.Resizing(IMAGE_SIZE, IMAGE_SIZE),\n",
    "    tf.keras.layers.experimental.preprocessing.Rescaling(1./255),\n",
    "])"
   ]
  },
  {
   "cell_type": "code",
   "execution_count": 8,
   "metadata": {},
   "outputs": [],
   "source": [
    "input_shape = (BATCH_SIZE, IMAGE_SIZE, IMAGE_SIZE, CHANNELS)\n",
    "n_classes = len(dataset.class_names)\n",
    "\n",
    "# Load the pre-trained VGG16 model without the top (fully connected) layers\n",
    "base_model = VGG16(weights='imagenet', include_top=False, input_shape=(IMAGE_SIZE, IMAGE_SIZE, 3))\n",
    "\n",
    "# Freeze the base model's layers so they are not updated during training\n",
    "base_model.trainable = False\n",
    "\n",
    "model = tf.keras.Sequential([\n",
    "    resize_and_rescale,\n",
    "    base_model,\n",
    "    tf.keras.layers.Flatten(),\n",
    "    tf.keras.layers.Dense(256, activation='relu'),\n",
    "    tf.keras.layers.Dropout(0.3),\n",
    "    tf.keras.layers.Dense(n_classes, activation='softmax')\n",
    "])"
   ]
  },
  {
   "cell_type": "code",
   "execution_count": 9,
   "metadata": {},
   "outputs": [],
   "source": [
    "model.compile(\n",
    "    loss='sparse_categorical_crossentropy',\n",
    "    optimizer=tf.keras.optimizers.Adam(learning_rate=0.0001),\n",
    "    metrics=[\"accuracy\"]\n",
    ")"
   ]
  },
  {
   "cell_type": "code",
   "execution_count": 10,
   "metadata": {},
   "outputs": [
    {
     "name": "stdout",
     "output_type": "stream",
     "text": [
      "Model: \"sequential_2\"\n",
      "_________________________________________________________________\n",
      " Layer (type)                Output Shape              Param #   \n",
      "=================================================================\n",
      " sequential_1 (Sequential)   (32, 256, 256, 3)         0         \n",
      "                                                                 \n",
      " vgg16 (Functional)          (None, 8, 8, 512)         14714688  \n",
      "                                                                 \n",
      " flatten (Flatten)           (32, 32768)               0         \n",
      "                                                                 \n",
      " dense (Dense)               (32, 256)                 8388864   \n",
      "                                                                 \n",
      " dropout (Dropout)           (32, 256)                 0         \n",
      "                                                                 \n",
      " dense_1 (Dense)             (32, 4)                   1028      \n",
      "                                                                 \n",
      "=================================================================\n",
      "Total params: 23,104,580\n",
      "Trainable params: 8,389,892\n",
      "Non-trainable params: 14,714,688\n",
      "_________________________________________________________________\n"
     ]
    }
   ],
   "source": [
    "model.build(input_shape=input_shape)\n",
    "model.summary()"
   ]
  },
  {
   "cell_type": "code",
   "execution_count": 12,
   "metadata": {},
   "outputs": [],
   "source": [
    "early_stopping = tf.keras.callbacks.EarlyStopping(\n",
    "    monitor='val_loss',\n",
    "    mode='min',\n",
    "    verbose=1,\n",
    "    patience=10\n",
    ")\n",
    "# Save the best model with the least validation loss\n",
    "checkpointer = tf.keras.callbacks.ModelCheckpoint(\n",
    "    filepath=\"finalproject_weights.h5\",\n",
    "    verbose=1,\n",
    "    save_best_only=True\n",
    ")"
   ]
  },
  {
   "cell_type": "code",
   "execution_count": 12,
   "metadata": {},
   "outputs": [
    {
     "name": "stdout",
     "output_type": "stream",
     "text": [
      "Epoch 1/50\n"
     ]
    },
    {
     "name": "stderr",
     "output_type": "stream",
     "text": [
      "2023-05-17 14:52:35.435269: I tensorflow/core/kernels/data/shuffle_dataset_op.cc:390] Filling up shuffle buffer (this may take a while): 12 of 2000\n",
      "2023-05-17 14:52:45.604359: I tensorflow/core/kernels/data/shuffle_dataset_op.cc:390] Filling up shuffle buffer (this may take a while): 34 of 2000\n",
      "2023-05-17 14:52:55.737620: I tensorflow/core/kernels/data/shuffle_dataset_op.cc:390] Filling up shuffle buffer (this may take a while): 56 of 2000\n",
      "2023-05-17 14:53:00.946883: I tensorflow/core/kernels/data/shuffle_dataset_op.cc:415] Shuffle buffer filled.\n",
      "2023-05-17 14:53:02.336113: I tensorflow/stream_executor/cuda/cuda_dnn.cc:368] Loaded cuDNN version 8204\n",
      "2023-05-17 14:53:03.718114: I tensorflow/core/platform/default/subprocess.cc:304] Start cannot spawn child process: No such file or directory\n",
      "2023-05-17 14:53:03.957345: W tensorflow/core/common_runtime/bfc_allocator.cc:275] Allocator (GPU_0_bfc) ran out of memory trying to allocate 1.19GiB with freed_by_count=0. The caller indicates that this is not a failure, but may mean that there could be performance gains if more memory were available.\n",
      "2023-05-17 14:53:03.957396: W tensorflow/core/common_runtime/bfc_allocator.cc:275] Allocator (GPU_0_bfc) ran out of memory trying to allocate 1.19GiB with freed_by_count=0. The caller indicates that this is not a failure, but may mean that there could be performance gains if more memory were available.\n",
      "2023-05-17 14:53:07.837667: W tensorflow/core/common_runtime/bfc_allocator.cc:275] Allocator (GPU_0_bfc) ran out of memory trying to allocate 2.27GiB with freed_by_count=0. The caller indicates that this is not a failure, but may mean that there could be performance gains if more memory were available.\n",
      "2023-05-17 14:53:07.837714: W tensorflow/core/common_runtime/bfc_allocator.cc:275] Allocator (GPU_0_bfc) ran out of memory trying to allocate 2.27GiB with freed_by_count=0. The caller indicates that this is not a failure, but may mean that there could be performance gains if more memory were available.\n",
      "2023-05-17 14:53:08.606780: W tensorflow/core/common_runtime/bfc_allocator.cc:275] Allocator (GPU_0_bfc) ran out of memory trying to allocate 2.27GiB with freed_by_count=0. The caller indicates that this is not a failure, but may mean that there could be performance gains if more memory were available.\n",
      "2023-05-17 14:53:08.606827: W tensorflow/core/common_runtime/bfc_allocator.cc:275] Allocator (GPU_0_bfc) ran out of memory trying to allocate 2.27GiB with freed_by_count=0. The caller indicates that this is not a failure, but may mean that there could be performance gains if more memory were available.\n"
     ]
    },
    {
     "name": "stdout",
     "output_type": "stream",
     "text": [
      " 1/66 [..............................] - ETA: 50:54 - loss: 1.7459 - accuracy: 0.2500"
     ]
    },
    {
     "name": "stderr",
     "output_type": "stream",
     "text": [
      "2023-05-17 14:53:11.391960: W tensorflow/core/common_runtime/bfc_allocator.cc:275] Allocator (GPU_0_bfc) ran out of memory trying to allocate 2.28GiB with freed_by_count=0. The caller indicates that this is not a failure, but may mean that there could be performance gains if more memory were available.\n",
      "2023-05-17 14:53:11.392017: W tensorflow/core/common_runtime/bfc_allocator.cc:275] Allocator (GPU_0_bfc) ran out of memory trying to allocate 2.28GiB with freed_by_count=0. The caller indicates that this is not a failure, but may mean that there could be performance gains if more memory were available.\n"
     ]
    },
    {
     "name": "stdout",
     "output_type": "stream",
     "text": [
      "66/66 [==============================] - ETA: 0s - loss: 0.6128 - accuracy: 0.7689"
     ]
    },
    {
     "name": "stderr",
     "output_type": "stream",
     "text": [
      "2023-05-17 14:54:16.438904: I tensorflow/core/kernels/data/shuffle_dataset_op.cc:390] Filling up shuffle buffer (this may take a while): 1 of 2000\n",
      "2023-05-17 14:54:16.849861: I tensorflow/core/kernels/data/shuffle_dataset_op.cc:390] Filling up shuffle buffer (this may take a while): 2 of 2000\n",
      "2023-05-17 14:54:17.481533: I tensorflow/core/kernels/data/shuffle_dataset_op.cc:390] Filling up shuffle buffer (this may take a while): 3 of 2000\n",
      "2023-05-17 14:54:18.236003: I tensorflow/core/kernels/data/shuffle_dataset_op.cc:390] Filling up shuffle buffer (this may take a while): 4 of 2000\n",
      "2023-05-17 14:54:19.545237: I tensorflow/core/kernels/data/shuffle_dataset_op.cc:415] Shuffle buffer filled.\n",
      "2023-05-17 14:54:21.755517: W tensorflow/core/common_runtime/bfc_allocator.cc:275] Allocator (GPU_0_bfc) ran out of memory trying to allocate 1.19GiB with freed_by_count=0. The caller indicates that this is not a failure, but may mean that there could be performance gains if more memory were available.\n",
      "2023-05-17 14:54:21.755577: W tensorflow/core/common_runtime/bfc_allocator.cc:275] Allocator (GPU_0_bfc) ran out of memory trying to allocate 1.19GiB with freed_by_count=0. The caller indicates that this is not a failure, but may mean that there could be performance gains if more memory were available.\n"
     ]
    },
    {
     "name": "stdout",
     "output_type": "stream",
     "text": [
      "\n",
      "Epoch 1: val_loss improved from inf to 0.34554, saving model to finalproject_weights.h5\n",
      "66/66 [==============================] - 127s 1s/step - loss: 0.6128 - accuracy: 0.7689 - val_loss: 0.3455 - val_accuracy: 0.8789\n",
      "Epoch 2/50\n",
      "66/66 [==============================] - ETA: 0s - loss: 0.2836 - accuracy: 0.9010\n",
      "Epoch 2: val_loss improved from 0.34554 to 0.25135, saving model to finalproject_weights.h5\n",
      "66/66 [==============================] - 31s 477ms/step - loss: 0.2836 - accuracy: 0.9010 - val_loss: 0.2514 - val_accuracy: 0.9193\n",
      "Epoch 3/50\n",
      "66/66 [==============================] - ETA: 0s - loss: 0.2357 - accuracy: 0.9190\n",
      "Epoch 3: val_loss improved from 0.25135 to 0.24149, saving model to finalproject_weights.h5\n",
      "66/66 [==============================] - 31s 475ms/step - loss: 0.2357 - accuracy: 0.9190 - val_loss: 0.2415 - val_accuracy: 0.9238\n",
      "Epoch 4/50\n",
      "66/66 [==============================] - ETA: 0s - loss: 0.1740 - accuracy: 0.9422\n",
      "Epoch 4: val_loss improved from 0.24149 to 0.23043, saving model to finalproject_weights.h5\n",
      "66/66 [==============================] - 31s 477ms/step - loss: 0.1740 - accuracy: 0.9422 - val_loss: 0.2304 - val_accuracy: 0.9305\n",
      "Epoch 5/50\n",
      "66/66 [==============================] - ETA: 0s - loss: 0.1728 - accuracy: 0.9408\n",
      "Epoch 5: val_loss improved from 0.23043 to 0.17741, saving model to finalproject_weights.h5\n",
      "66/66 [==============================] - 32s 479ms/step - loss: 0.1728 - accuracy: 0.9408 - val_loss: 0.1774 - val_accuracy: 0.9395\n",
      "Epoch 6/50\n",
      "66/66 [==============================] - ETA: 0s - loss: 0.1228 - accuracy: 0.9569\n",
      "Epoch 6: val_loss did not improve from 0.17741\n",
      "66/66 [==============================] - 31s 471ms/step - loss: 0.1228 - accuracy: 0.9569 - val_loss: 0.1900 - val_accuracy: 0.9305\n",
      "Epoch 7/50\n",
      "66/66 [==============================] - ETA: 0s - loss: 0.1068 - accuracy: 0.9650\n",
      "Epoch 7: val_loss improved from 0.17741 to 0.17692, saving model to finalproject_weights.h5\n",
      "66/66 [==============================] - 32s 483ms/step - loss: 0.1068 - accuracy: 0.9650 - val_loss: 0.1769 - val_accuracy: 0.9305\n",
      "Epoch 8/50\n",
      "66/66 [==============================] - ETA: 0s - loss: 0.0896 - accuracy: 0.9768\n",
      "Epoch 8: val_loss improved from 0.17692 to 0.14999, saving model to finalproject_weights.h5\n",
      "66/66 [==============================] - 32s 483ms/step - loss: 0.0896 - accuracy: 0.9768 - val_loss: 0.1500 - val_accuracy: 0.9507\n",
      "Epoch 9/50\n",
      "66/66 [==============================] - ETA: 0s - loss: 0.0798 - accuracy: 0.9759\n",
      "Epoch 9: val_loss improved from 0.14999 to 0.14411, saving model to finalproject_weights.h5\n",
      "66/66 [==============================] - 32s 484ms/step - loss: 0.0798 - accuracy: 0.9759 - val_loss: 0.1441 - val_accuracy: 0.9552\n",
      "Epoch 10/50\n",
      "66/66 [==============================] - ETA: 0s - loss: 0.0704 - accuracy: 0.9811\n",
      "Epoch 10: val_loss did not improve from 0.14411\n",
      "66/66 [==============================] - 31s 471ms/step - loss: 0.0704 - accuracy: 0.9811 - val_loss: 0.1549 - val_accuracy: 0.9417\n",
      "Epoch 11/50\n",
      "66/66 [==============================] - ETA: 0s - loss: 0.0569 - accuracy: 0.9872\n",
      "Epoch 11: val_loss did not improve from 0.14411\n",
      "66/66 [==============================] - 31s 471ms/step - loss: 0.0569 - accuracy: 0.9872 - val_loss: 0.1645 - val_accuracy: 0.9439\n",
      "Epoch 12/50\n",
      "66/66 [==============================] - ETA: 0s - loss: 0.0653 - accuracy: 0.9792\n",
      "Epoch 12: val_loss did not improve from 0.14411\n",
      "66/66 [==============================] - 31s 472ms/step - loss: 0.0653 - accuracy: 0.9792 - val_loss: 0.1658 - val_accuracy: 0.9327\n",
      "Epoch 13/50\n",
      "66/66 [==============================] - ETA: 0s - loss: 0.0687 - accuracy: 0.9782\n",
      "Epoch 13: val_loss improved from 0.14411 to 0.14164, saving model to finalproject_weights.h5\n",
      "66/66 [==============================] - 32s 486ms/step - loss: 0.0687 - accuracy: 0.9782 - val_loss: 0.1416 - val_accuracy: 0.9484\n",
      "Epoch 14/50\n",
      "66/66 [==============================] - ETA: 0s - loss: 0.0410 - accuracy: 0.9905\n",
      "Epoch 14: val_loss improved from 0.14164 to 0.13993, saving model to finalproject_weights.h5\n",
      "66/66 [==============================] - 32s 484ms/step - loss: 0.0410 - accuracy: 0.9905 - val_loss: 0.1399 - val_accuracy: 0.9439\n",
      "Epoch 15/50\n",
      "66/66 [==============================] - ETA: 0s - loss: 0.0342 - accuracy: 0.9948\n",
      "Epoch 15: val_loss improved from 0.13993 to 0.13474, saving model to finalproject_weights.h5\n",
      "66/66 [==============================] - 32s 487ms/step - loss: 0.0342 - accuracy: 0.9948 - val_loss: 0.1347 - val_accuracy: 0.9529\n",
      "Epoch 16/50\n",
      "66/66 [==============================] - ETA: 0s - loss: 0.0320 - accuracy: 0.9948\n",
      "Epoch 16: val_loss improved from 0.13474 to 0.13298, saving model to finalproject_weights.h5\n",
      "66/66 [==============================] - 32s 486ms/step - loss: 0.0320 - accuracy: 0.9948 - val_loss: 0.1330 - val_accuracy: 0.9417\n",
      "Epoch 17/50\n",
      "66/66 [==============================] - ETA: 0s - loss: 0.0326 - accuracy: 0.9934\n",
      "Epoch 17: val_loss improved from 0.13298 to 0.12921, saving model to finalproject_weights.h5\n",
      "66/66 [==============================] - 32s 484ms/step - loss: 0.0326 - accuracy: 0.9934 - val_loss: 0.1292 - val_accuracy: 0.9552\n",
      "Epoch 18/50\n",
      "66/66 [==============================] - ETA: 0s - loss: 0.0253 - accuracy: 0.9972\n",
      "Epoch 18: val_loss did not improve from 0.12921\n",
      "66/66 [==============================] - 31s 472ms/step - loss: 0.0253 - accuracy: 0.9972 - val_loss: 0.1325 - val_accuracy: 0.9552\n",
      "Epoch 19/50\n",
      "66/66 [==============================] - ETA: 0s - loss: 0.0247 - accuracy: 0.9962\n",
      "Epoch 19: val_loss did not improve from 0.12921\n",
      "66/66 [==============================] - 31s 473ms/step - loss: 0.0247 - accuracy: 0.9962 - val_loss: 0.1356 - val_accuracy: 0.9596\n",
      "Epoch 20/50\n",
      "66/66 [==============================] - ETA: 0s - loss: 0.0250 - accuracy: 0.9962\n",
      "Epoch 20: val_loss did not improve from 0.12921\n",
      "66/66 [==============================] - 31s 472ms/step - loss: 0.0250 - accuracy: 0.9962 - val_loss: 0.1491 - val_accuracy: 0.9462\n",
      "Epoch 21/50\n",
      "66/66 [==============================] - ETA: 0s - loss: 0.0212 - accuracy: 0.9976\n",
      "Epoch 21: val_loss did not improve from 0.12921\n",
      "66/66 [==============================] - 31s 476ms/step - loss: 0.0212 - accuracy: 0.9976 - val_loss: 0.1481 - val_accuracy: 0.9529\n",
      "Epoch 22/50\n",
      "66/66 [==============================] - ETA: 0s - loss: 0.0175 - accuracy: 0.9981\n",
      "Epoch 22: val_loss did not improve from 0.12921\n",
      "66/66 [==============================] - 31s 473ms/step - loss: 0.0175 - accuracy: 0.9981 - val_loss: 0.1425 - val_accuracy: 0.9507\n",
      "Epoch 23/50\n",
      "66/66 [==============================] - ETA: 0s - loss: 0.0185 - accuracy: 0.9981\n",
      "Epoch 23: val_loss did not improve from 0.12921\n",
      "66/66 [==============================] - 31s 473ms/step - loss: 0.0185 - accuracy: 0.9981 - val_loss: 0.1372 - val_accuracy: 0.9507\n",
      "Epoch 24/50\n",
      "66/66 [==============================] - ETA: 0s - loss: 0.0157 - accuracy: 0.9976\n",
      "Epoch 24: val_loss did not improve from 0.12921\n",
      "66/66 [==============================] - 31s 472ms/step - loss: 0.0157 - accuracy: 0.9976 - val_loss: 0.1626 - val_accuracy: 0.9372\n",
      "Epoch 25/50\n",
      "66/66 [==============================] - ETA: 0s - loss: 0.0150 - accuracy: 0.9976\n",
      "Epoch 25: val_loss did not improve from 0.12921\n",
      "66/66 [==============================] - 31s 472ms/step - loss: 0.0150 - accuracy: 0.9976 - val_loss: 0.1353 - val_accuracy: 0.9507\n",
      "Epoch 26/50\n",
      "66/66 [==============================] - ETA: 0s - loss: 0.0152 - accuracy: 0.9976\n",
      "Epoch 26: val_loss did not improve from 0.12921\n",
      "66/66 [==============================] - 31s 473ms/step - loss: 0.0152 - accuracy: 0.9976 - val_loss: 0.1337 - val_accuracy: 0.9552\n",
      "Epoch 27/50\n",
      "66/66 [==============================] - ETA: 0s - loss: 0.0121 - accuracy: 0.9991\n",
      "Epoch 27: val_loss did not improve from 0.12921\n",
      "66/66 [==============================] - 31s 472ms/step - loss: 0.0121 - accuracy: 0.9991 - val_loss: 0.1458 - val_accuracy: 0.9507\n",
      "Epoch 27: early stopping\n"
     ]
    }
   ],
   "source": [
    "history = model.fit(\n",
    "    train_ds, \n",
    "    epochs = 50,\n",
    "    validation_data=val_ds,\n",
    "    batch_size=BATCH_SIZE,\n",
    "    shuffle=True,\n",
    "    callbacks=[early_stopping, checkpointer]\n",
    ")"
   ]
  },
  {
   "cell_type": "markdown",
   "metadata": {},
   "source": [
    "## Model Evaluation"
   ]
  },
  {
   "cell_type": "code",
   "execution_count": 13,
   "metadata": {},
   "outputs": [
    {
     "data": {
      "image/png": "[encoded data removed]",
      "text/plain": [
       "<Figure size 432x288 with 1 Axes>"
      ]
     },
     "metadata": {
      "needs_background": "light"
     },
     "output_type": "display_data"
    }
   ],
   "source": [
    "# The is how training loss and validation loss varied during training\n",
    "plt.plot(history.history['loss'])\n",
    "plt.plot(history.history['val_loss'])\n",
    "plt.title('model loss')\n",
    "plt.ylabel('loss')\n",
    "plt.ylim(0, 1)\n",
    "plt.xlabel('epoch')\n",
    "plt.legend(['train', 'val'], loc='upper right')\n",
    "plt.show()"
   ]
  },
  {
   "cell_type": "code",
   "execution_count": 14,
   "metadata": {},
   "outputs": [
    {
     "data": {
      "image/png": "[encoded data removed]",
      "text/plain": [
       "<Figure size 432x288 with 1 Axes>"
      ]
     },
     "metadata": {
      "needs_background": "light"
     },
     "output_type": "display_data"
    }
   ],
   "source": [
    "plt.plot(history.history['accuracy'])\n",
    "plt.plot(history.history['val_accuracy'])\n",
    "plt.title('model accuracy')\n",
    "plt.ylabel('accuracy')\n",
    "plt.ylim(0, 1)\n",
    "plt.xlabel('epoch')\n",
    "plt.legend(['train', 'val'], loc='upper left')\n",
    "plt.show()"
   ]
  },
  {
   "cell_type": "code",
   "execution_count": 15,
   "metadata": {},
   "outputs": [],
   "source": [
    "# Save the model architecture\n",
    "model_json = model.to_json()\n",
    "with open(\"finalproject_model.json\", \"w\") as json_file:\n",
    "    json_file.write(model_json)"
   ]
  },
  {
   "cell_type": "markdown",
   "metadata": {},
   "source": [
    "## Evaluating the Saved Model Performance"
   ]
  },
  {
   "cell_type": "code",
   "execution_count": 13,
   "metadata": {},
   "outputs": [],
   "source": [
    "# Load the pretrained model (best saved one)\n",
    "with open('finalproject_model.json', 'r') as json_file:\n",
    "    json_saved_model = json_file.read()\n",
    "\n",
    "# Load the model\n",
    "model = tf.keras.models.model_from_json(json_saved_model)\n",
    "model.load_weights('finalproject_weights.h5')\n",
    "model.compile(\n",
    "    loss='sparse_categorical_crossentropy',\n",
    "    optimizer='Adam',\n",
    "    metrics=[\"accuracy\"]\n",
    ")"
   ]
  },
  {
   "cell_type": "code",
   "execution_count": 14,
   "metadata": {},
   "outputs": [
    {
     "name": "stderr",
     "output_type": "stream",
     "text": [
      "2023-05-18 17:22:58.181848: I tensorflow/core/kernels/data/shuffle_dataset_op.cc:390] Filling up shuffle buffer (this may take a while): 1 of 2000\n",
      "2023-05-18 17:22:58.587996: I tensorflow/core/kernels/data/shuffle_dataset_op.cc:390] Filling up shuffle buffer (this may take a while): 2 of 2000\n",
      "2023-05-18 17:22:59.172191: I tensorflow/core/kernels/data/shuffle_dataset_op.cc:390] Filling up shuffle buffer (this may take a while): 3 of 2000\n",
      "2023-05-18 17:23:01.800105: I tensorflow/core/kernels/data/shuffle_dataset_op.cc:415] Shuffle buffer filled.\n",
      "2023-05-18 17:23:03.155679: I tensorflow/stream_executor/cuda/cuda_dnn.cc:368] Loaded cuDNN version 8204\n",
      "2023-05-18 17:23:04.693698: I tensorflow/core/platform/default/subprocess.cc:304] Start cannot spawn child process: No such file or directory\n",
      "2023-05-18 17:23:04.929357: W tensorflow/core/common_runtime/bfc_allocator.cc:275] Allocator (GPU_0_bfc) ran out of memory trying to allocate 1.19GiB with freed_by_count=0. The caller indicates that this is not a failure, but may mean that there could be performance gains if more memory were available.\n",
      "2023-05-18 17:23:04.929403: W tensorflow/core/common_runtime/bfc_allocator.cc:275] Allocator (GPU_0_bfc) ran out of memory trying to allocate 1.19GiB with freed_by_count=0. The caller indicates that this is not a failure, but may mean that there could be performance gains if more memory were available.\n",
      "2023-05-18 17:23:08.930792: W tensorflow/core/common_runtime/bfc_allocator.cc:275] Allocator (GPU_0_bfc) ran out of memory trying to allocate 2.27GiB with freed_by_count=0. The caller indicates that this is not a failure, but may mean that there could be performance gains if more memory were available.\n",
      "2023-05-18 17:23:08.930840: W tensorflow/core/common_runtime/bfc_allocator.cc:275] Allocator (GPU_0_bfc) ran out of memory trying to allocate 2.27GiB with freed_by_count=0. The caller indicates that this is not a failure, but may mean that there could be performance gains if more memory were available.\n",
      "2023-05-18 17:23:09.696324: W tensorflow/core/common_runtime/bfc_allocator.cc:275] Allocator (GPU_0_bfc) ran out of memory trying to allocate 2.27GiB with freed_by_count=0. The caller indicates that this is not a failure, but may mean that there could be performance gains if more memory were available.\n",
      "2023-05-18 17:23:09.696372: W tensorflow/core/common_runtime/bfc_allocator.cc:275] Allocator (GPU_0_bfc) ran out of memory trying to allocate 2.27GiB with freed_by_count=0. The caller indicates that this is not a failure, but may mean that there could be performance gains if more memory were available.\n",
      "2023-05-18 17:23:09.862653: W tensorflow/core/common_runtime/bfc_allocator.cc:275] Allocator (GPU_0_bfc) ran out of memory trying to allocate 1.14GiB with freed_by_count=0. The caller indicates that this is not a failure, but may mean that there could be performance gains if more memory were available.\n",
      "2023-05-18 17:23:09.862697: W tensorflow/core/common_runtime/bfc_allocator.cc:275] Allocator (GPU_0_bfc) ran out of memory trying to allocate 1.14GiB with freed_by_count=0. The caller indicates that this is not a failure, but may mean that there could be performance gains if more memory were available.\n"
     ]
    },
    {
     "name": "stdout",
     "output_type": "stream",
     "text": [
      "1/8 [==>...........................] - ETA: 5:51 - loss: 0.1054 - accuracy: 0.9688"
     ]
    },
    {
     "name": "stderr",
     "output_type": "stream",
     "text": [
      "2023-05-18 17:23:12.399264: W tensorflow/core/common_runtime/bfc_allocator.cc:275] Allocator (GPU_0_bfc) ran out of memory trying to allocate 2.28GiB with freed_by_count=0. The caller indicates that this is not a failure, but may mean that there could be performance gains if more memory were available.\n",
      "2023-05-18 17:23:12.399311: W tensorflow/core/common_runtime/bfc_allocator.cc:275] Allocator (GPU_0_bfc) ran out of memory trying to allocate 2.28GiB with freed_by_count=0. The caller indicates that this is not a failure, but may mean that there could be performance gains if more memory were available.\n"
     ]
    },
    {
     "name": "stdout",
     "output_type": "stream",
     "text": [
      "8/8 [==============================] - 53s 384ms/step - loss: 0.1389 - accuracy: 0.9453\n"
     ]
    }
   ],
   "source": [
    "scores = model.evaluate(test_ds)"
   ]
  },
  {
   "cell_type": "code",
   "execution_count": 15,
   "metadata": {},
   "outputs": [],
   "source": [
    "predict = []\n",
    "y_test = np.array([])\n",
    "for images, labels in test_ds:\n",
    "    y_test = np.concatenate((y_test, labels.numpy()), axis=0).astype(int)\n",
    "    predictions = model.predict(images)\n",
    "    predict.extend(np.argmax(predictions, axis=1))\n",
    "predict = np.asarray(predict)"
   ]
  },
  {
   "cell_type": "code",
   "execution_count": 16,
   "metadata": {},
   "outputs": [
    {
     "name": "stdout",
     "output_type": "stream",
     "text": [
      "Accuracy: 0.9453125\n"
     ]
    }
   ],
   "source": [
    "# Obtain the accuracy of the model\n",
    "from sklearn.metrics import accuracy_score\n",
    "\n",
    "accuracy = accuracy_score(y_test, predict)\n",
    "print(f\"Accuracy: {accuracy}\")"
   ]
  },
  {
   "cell_type": "code",
   "execution_count": 17,
   "metadata": {},
   "outputs": [
    {
     "data": {
      "text/plain": [
       "<AxesSubplot:>"
      ]
     },
     "execution_count": 17,
     "metadata": {},
     "output_type": "execute_result"
    },
    {
     "data": {
      "image/png": "[encoded data removed]",
      "text/plain": [
       "<Figure size 504x504 with 2 Axes>"
      ]
     },
     "metadata": {
      "needs_background": "light"
     },
     "output_type": "display_data"
    }
   ],
   "source": [
    "# plot the confusion matrix\n",
    "from sklearn.metrics import confusion_matrix\n",
    "\n",
    "cm = confusion_matrix(y_test, predict)\n",
    "plt.figure(figsize = (7,7))\n",
    "sns.heatmap(cm, annot=True, cmap='Blues')"
   ]
  },
  {
   "cell_type": "code",
   "execution_count": 18,
   "metadata": {},
   "outputs": [
    {
     "name": "stdout",
     "output_type": "stream",
     "text": [
      "              precision    recall  f1-score   support\n",
      "\n",
      "           0       1.00      1.00      1.00        51\n",
      "           1       0.94      0.92      0.93       100\n",
      "           2       0.88      0.92      0.90        48\n",
      "           3       0.96      0.96      0.96        57\n",
      "\n",
      "    accuracy                           0.95       256\n",
      "   macro avg       0.95      0.95      0.95       256\n",
      "weighted avg       0.95      0.95      0.95       256\n",
      "\n"
     ]
    }
   ],
   "source": [
    "from sklearn.metrics import classification_report\n",
    "\n",
    "report = classification_report(y_test, predict)\n",
    "print(report)"
   ]
  },
  {
   "cell_type": "code",
   "execution_count": null,
   "metadata": {},
   "outputs": [],
   "source": []
  }
 ],
 "metadata": {
  "kernelspec": {
   "display_name": "Python 3 (ipykernel)",
   "language": "python",
   "name": "python3"
  },
  "language_info": {
   "codemirror_mode": {
    "name": "ipython",
    "version": 3
   },
   "file_extension": ".py",
   "mimetype": "text/x-python",
   "name": "python",
   "nbconvert_exporter": "python",
   "pygments_lexer": "ipython3",
   "version": "3.8.10"
  }
 },
 "nbformat": 4,
 "nbformat_minor": 4
}
